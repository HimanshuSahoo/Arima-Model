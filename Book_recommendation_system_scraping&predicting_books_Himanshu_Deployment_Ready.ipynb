{
  "cells": [
    {
      "cell_type": "markdown",
      "metadata": {
        "id": "view-in-github",
        "colab_type": "text"
      },
      "source": [
        "<a href=\"https://colab.research.google.com/github/HimanshuSahoo/Arima-Model/blob/main/Book_recommendation_system_scraping%26predicting_books_Himanshu_Deployment_Ready.ipynb\" target=\"_parent\"><img src=\"https://colab.research.google.com/assets/colab-badge.svg\" alt=\"Open In Colab\"/></a>"
      ]
    },
    {
      "cell_type": "code",
      "execution_count": null,
      "source": [
        "import pandas as pd\n",
        "import numpy as np\n",
        "from bs4 import BeautifulSoup as bs\n",
        "import requests\n",
        "from time import time\n",
        "\n",
        "#data processing libraries \n",
        "\n",
        "from sklearn import preprocessing\n",
        "\n",
        "import nltk\n",
        "from nltk.stem.porter import PorterStemmer\n",
        "\n",
        "from sklearn.model_selection import train_test_split\n",
        "from sklearn.feature_extraction.text import CountVectorizer\n",
        "from sklearn.naive_bayes import MultinomialNB\n",
        "from sklearn.naive_bayes import GaussianNB\n",
        "from sklearn.ensemble import RandomForestClassifier\n",
        "from sklearn.neighbors import KNeighborsClassifier\n",
        "from sklearn.linear_model import LogisticRegression\n",
        "from sklearn.svm import SVC\n",
        "from sklearn import tree\n",
        "import tensorflow as tf\n",
        "from keras.models import Sequential\n",
        "from keras.layers import Dense\n",
        "from tensorflow.keras.optimizers import Adam\n",
        "import warnings\n",
        "warnings.filterwarnings('ignore')\n",
        "\n",
        "\n",
        "\n",
        "\n",
        "#Evaluate the model\n",
        "from sklearn.metrics import classification_report\n",
        "from sklearn.metrics import confusion_matrix\n",
        "from sklearn.metrics import accuracy_score\n",
        "\n"
      ],
      "outputs": [],
      "metadata": {
        "id": "K5hrcuF_tY81"
      }
    },
    {
      "cell_type": "code",
      "execution_count": null,
      "source": [
        "#pip install tensorflow"
      ],
      "outputs": [],
      "metadata": {
        "id": "uKQ5lQZZtY84"
      }
    },
    {
      "cell_type": "code",
      "execution_count": null,
      "source": [
        "def get_page(url):\n",
        "    page = requests.get(url)\n",
        "    soup = bs(page.text,\"lxml\")\n",
        "    return soup"
      ],
      "outputs": [],
      "metadata": {
        "id": "18fAY3RVtY85"
      }
    },
    {
      "cell_type": "code",
      "execution_count": null,
      "source": [
        "def get_links(soup):\n",
        "    links=[]\n",
        "    listings = soup.find_all('a' ,{'class' : 'bookTitle'})\n",
        "    base_url=\"https://www.goodreads.com\"\n",
        "    for i in listings:\n",
        "        book_link = i.get(\"href\")\n",
        "        complete_link  = base_url + book_link\n",
        "        links.append(complete_link)\n",
        "    return links"
      ],
      "outputs": [],
      "metadata": {
        "scrolled": true,
        "id": "xLzHzcqgtY85"
      }
    },
    {
      "cell_type": "code",
      "execution_count": null,
      "source": [
        "#extract info from each link\n",
        "\n",
        "def extract_info(links):\n",
        "    for link in links:\n",
        "        res = requests.get(link).text\n",
        "        book_soup = bs(res,'html.parser')\n",
        "        try:\n",
        "            book_id = book_soup.find('div',{'id':'buyButtonContainer'}).get('data-book-id')\n",
        "            title = book_soup.find('h1',{'id':\"bookTitle\"}).text.strip()\n",
        "            author = book_soup.find('span',{'itemprop':\"name\"}).text.strip()\n",
        "            average_rating = book_soup.find('span',{'itemprop':\"ratingValue\"}).text.strip()\n",
        "            #description = book_soup.find('div',{'id':\"description\"}).text.strip()\n",
        "            description = book_soup.find('div', {'id': \"description\"}).find_all('span')[1].text.strip()\n",
        "            genre = book_soup.find('a',{'class':\"actionLinkLite bookPageGenreLink\"}).text.strip()\n",
        "            book_image_url = book_soup.find('img', {'id': 'coverImage'}).get('src').strip()\n",
        "            book_url = link\n",
        "        except AttributeError:\n",
        "            continue\n",
        "        \n",
        "        book = {'book_id':book_id,'title': title,'author': author,'average_rating':average_rating,'genre':genre,'description':description,'url':book_url,'image_url':book_image_url}\n",
        "        all_books.append(book)\n",
        "    return len(all_books)\n"
      ],
      "outputs": [],
      "metadata": {
        "scrolled": true,
        "id": "fgf0mk1KtY85"
      }
    },
    {
      "cell_type": "code",
      "execution_count": null,
      "source": [
        "all_books = []\n",
        "books  = pd.DataFrame()\n",
        "for page in range(1,51):\n",
        "    url = \"https://www.goodreads.com/list/show/264.Books_That_Everyone_Should_Read_At_Least_Once?page={}\".format(page)\n",
        "    soup = get_page(url)\n",
        "    links = get_links(soup)\n",
        "    (extract_info(links))\n"
      ],
      "outputs": [
        {
          "output_type": "error",
          "ename": "KeyboardInterrupt",
          "evalue": "",
          "traceback": [
            "\u001b[0;31m---------------------------------------------------------------------------\u001b[0m",
            "\u001b[0;31mKeyboardInterrupt\u001b[0m                         Traceback (most recent call last)",
            "\u001b[0;32m<ipython-input-75-6486292f75a4>\u001b[0m in \u001b[0;36m<module>\u001b[0;34m\u001b[0m\n\u001b[1;32m      5\u001b[0m     \u001b[0msoup\u001b[0m \u001b[0;34m=\u001b[0m \u001b[0mget_page\u001b[0m\u001b[0;34m(\u001b[0m\u001b[0murl\u001b[0m\u001b[0;34m)\u001b[0m\u001b[0;34m\u001b[0m\u001b[0;34m\u001b[0m\u001b[0m\n\u001b[1;32m      6\u001b[0m     \u001b[0mlinks\u001b[0m \u001b[0;34m=\u001b[0m \u001b[0mget_links\u001b[0m\u001b[0;34m(\u001b[0m\u001b[0msoup\u001b[0m\u001b[0;34m)\u001b[0m\u001b[0;34m\u001b[0m\u001b[0;34m\u001b[0m\u001b[0m\n\u001b[0;32m----> 7\u001b[0;31m     \u001b[0;34m(\u001b[0m\u001b[0mextract_info\u001b[0m\u001b[0;34m(\u001b[0m\u001b[0mlinks\u001b[0m\u001b[0;34m)\u001b[0m\u001b[0;34m)\u001b[0m\u001b[0;34m\u001b[0m\u001b[0;34m\u001b[0m\u001b[0m\n\u001b[0m",
            "\u001b[0;32m<ipython-input-74-f20afa554404>\u001b[0m in \u001b[0;36mextract_info\u001b[0;34m(links)\u001b[0m\n\u001b[1;32m      3\u001b[0m \u001b[0;32mdef\u001b[0m \u001b[0mextract_info\u001b[0m\u001b[0;34m(\u001b[0m\u001b[0mlinks\u001b[0m\u001b[0;34m)\u001b[0m\u001b[0;34m:\u001b[0m\u001b[0;34m\u001b[0m\u001b[0;34m\u001b[0m\u001b[0m\n\u001b[1;32m      4\u001b[0m     \u001b[0;32mfor\u001b[0m \u001b[0mlink\u001b[0m \u001b[0;32min\u001b[0m \u001b[0mlinks\u001b[0m\u001b[0;34m:\u001b[0m\u001b[0;34m\u001b[0m\u001b[0;34m\u001b[0m\u001b[0m\n\u001b[0;32m----> 5\u001b[0;31m         \u001b[0mres\u001b[0m \u001b[0;34m=\u001b[0m \u001b[0mrequests\u001b[0m\u001b[0;34m.\u001b[0m\u001b[0mget\u001b[0m\u001b[0;34m(\u001b[0m\u001b[0mlink\u001b[0m\u001b[0;34m)\u001b[0m\u001b[0;34m.\u001b[0m\u001b[0mtext\u001b[0m\u001b[0;34m\u001b[0m\u001b[0;34m\u001b[0m\u001b[0m\n\u001b[0m\u001b[1;32m      6\u001b[0m         \u001b[0mbook_soup\u001b[0m \u001b[0;34m=\u001b[0m \u001b[0mbs\u001b[0m\u001b[0;34m(\u001b[0m\u001b[0mres\u001b[0m\u001b[0;34m,\u001b[0m\u001b[0;34m'html.parser'\u001b[0m\u001b[0;34m)\u001b[0m\u001b[0;34m\u001b[0m\u001b[0;34m\u001b[0m\u001b[0m\n\u001b[1;32m      7\u001b[0m         \u001b[0;32mtry\u001b[0m\u001b[0;34m:\u001b[0m\u001b[0;34m\u001b[0m\u001b[0;34m\u001b[0m\u001b[0m\n",
            "\u001b[0;32m/opt/anaconda3/lib/python3.7/site-packages/requests/api.py\u001b[0m in \u001b[0;36mget\u001b[0;34m(url, params, **kwargs)\u001b[0m\n\u001b[1;32m     73\u001b[0m     \"\"\"\n\u001b[1;32m     74\u001b[0m \u001b[0;34m\u001b[0m\u001b[0m\n\u001b[0;32m---> 75\u001b[0;31m     \u001b[0;32mreturn\u001b[0m \u001b[0mrequest\u001b[0m\u001b[0;34m(\u001b[0m\u001b[0;34m'get'\u001b[0m\u001b[0;34m,\u001b[0m \u001b[0murl\u001b[0m\u001b[0;34m,\u001b[0m \u001b[0mparams\u001b[0m\u001b[0;34m=\u001b[0m\u001b[0mparams\u001b[0m\u001b[0;34m,\u001b[0m \u001b[0;34m**\u001b[0m\u001b[0mkwargs\u001b[0m\u001b[0;34m)\u001b[0m\u001b[0;34m\u001b[0m\u001b[0;34m\u001b[0m\u001b[0m\n\u001b[0m\u001b[1;32m     76\u001b[0m \u001b[0;34m\u001b[0m\u001b[0m\n\u001b[1;32m     77\u001b[0m \u001b[0;34m\u001b[0m\u001b[0m\n",
            "\u001b[0;32m/opt/anaconda3/lib/python3.7/site-packages/requests/api.py\u001b[0m in \u001b[0;36mrequest\u001b[0;34m(method, url, **kwargs)\u001b[0m\n\u001b[1;32m     59\u001b[0m     \u001b[0;31m# cases, and look like a memory leak in others.\u001b[0m\u001b[0;34m\u001b[0m\u001b[0;34m\u001b[0m\u001b[0;34m\u001b[0m\u001b[0m\n\u001b[1;32m     60\u001b[0m     \u001b[0;32mwith\u001b[0m \u001b[0msessions\u001b[0m\u001b[0;34m.\u001b[0m\u001b[0mSession\u001b[0m\u001b[0;34m(\u001b[0m\u001b[0;34m)\u001b[0m \u001b[0;32mas\u001b[0m \u001b[0msession\u001b[0m\u001b[0;34m:\u001b[0m\u001b[0;34m\u001b[0m\u001b[0;34m\u001b[0m\u001b[0m\n\u001b[0;32m---> 61\u001b[0;31m         \u001b[0;32mreturn\u001b[0m \u001b[0msession\u001b[0m\u001b[0;34m.\u001b[0m\u001b[0mrequest\u001b[0m\u001b[0;34m(\u001b[0m\u001b[0mmethod\u001b[0m\u001b[0;34m=\u001b[0m\u001b[0mmethod\u001b[0m\u001b[0;34m,\u001b[0m \u001b[0murl\u001b[0m\u001b[0;34m=\u001b[0m\u001b[0murl\u001b[0m\u001b[0;34m,\u001b[0m \u001b[0;34m**\u001b[0m\u001b[0mkwargs\u001b[0m\u001b[0;34m)\u001b[0m\u001b[0;34m\u001b[0m\u001b[0;34m\u001b[0m\u001b[0m\n\u001b[0m\u001b[1;32m     62\u001b[0m \u001b[0;34m\u001b[0m\u001b[0m\n\u001b[1;32m     63\u001b[0m \u001b[0;34m\u001b[0m\u001b[0m\n",
            "\u001b[0;32m/opt/anaconda3/lib/python3.7/site-packages/requests/sessions.py\u001b[0m in \u001b[0;36mrequest\u001b[0;34m(self, method, url, params, data, headers, cookies, files, auth, timeout, allow_redirects, proxies, hooks, stream, verify, cert, json)\u001b[0m\n\u001b[1;32m    540\u001b[0m         }\n\u001b[1;32m    541\u001b[0m         \u001b[0msend_kwargs\u001b[0m\u001b[0;34m.\u001b[0m\u001b[0mupdate\u001b[0m\u001b[0;34m(\u001b[0m\u001b[0msettings\u001b[0m\u001b[0;34m)\u001b[0m\u001b[0;34m\u001b[0m\u001b[0;34m\u001b[0m\u001b[0m\n\u001b[0;32m--> 542\u001b[0;31m         \u001b[0mresp\u001b[0m \u001b[0;34m=\u001b[0m \u001b[0mself\u001b[0m\u001b[0;34m.\u001b[0m\u001b[0msend\u001b[0m\u001b[0;34m(\u001b[0m\u001b[0mprep\u001b[0m\u001b[0;34m,\u001b[0m \u001b[0;34m**\u001b[0m\u001b[0msend_kwargs\u001b[0m\u001b[0;34m)\u001b[0m\u001b[0;34m\u001b[0m\u001b[0;34m\u001b[0m\u001b[0m\n\u001b[0m\u001b[1;32m    543\u001b[0m \u001b[0;34m\u001b[0m\u001b[0m\n\u001b[1;32m    544\u001b[0m         \u001b[0;32mreturn\u001b[0m \u001b[0mresp\u001b[0m\u001b[0;34m\u001b[0m\u001b[0;34m\u001b[0m\u001b[0m\n",
            "\u001b[0;32m/opt/anaconda3/lib/python3.7/site-packages/requests/sessions.py\u001b[0m in \u001b[0;36msend\u001b[0;34m(self, request, **kwargs)\u001b[0m\n\u001b[1;32m    653\u001b[0m \u001b[0;34m\u001b[0m\u001b[0m\n\u001b[1;32m    654\u001b[0m         \u001b[0;31m# Send the request\u001b[0m\u001b[0;34m\u001b[0m\u001b[0;34m\u001b[0m\u001b[0;34m\u001b[0m\u001b[0m\n\u001b[0;32m--> 655\u001b[0;31m         \u001b[0mr\u001b[0m \u001b[0;34m=\u001b[0m \u001b[0madapter\u001b[0m\u001b[0;34m.\u001b[0m\u001b[0msend\u001b[0m\u001b[0;34m(\u001b[0m\u001b[0mrequest\u001b[0m\u001b[0;34m,\u001b[0m \u001b[0;34m**\u001b[0m\u001b[0mkwargs\u001b[0m\u001b[0;34m)\u001b[0m\u001b[0;34m\u001b[0m\u001b[0;34m\u001b[0m\u001b[0m\n\u001b[0m\u001b[1;32m    656\u001b[0m \u001b[0;34m\u001b[0m\u001b[0m\n\u001b[1;32m    657\u001b[0m         \u001b[0;31m# Total elapsed time of the request (approximately)\u001b[0m\u001b[0;34m\u001b[0m\u001b[0;34m\u001b[0m\u001b[0;34m\u001b[0m\u001b[0m\n",
            "\u001b[0;32m/opt/anaconda3/lib/python3.7/site-packages/requests/adapters.py\u001b[0m in \u001b[0;36msend\u001b[0;34m(self, request, stream, timeout, verify, cert, proxies)\u001b[0m\n\u001b[1;32m    447\u001b[0m                     \u001b[0mdecode_content\u001b[0m\u001b[0;34m=\u001b[0m\u001b[0;32mFalse\u001b[0m\u001b[0;34m,\u001b[0m\u001b[0;34m\u001b[0m\u001b[0;34m\u001b[0m\u001b[0m\n\u001b[1;32m    448\u001b[0m                     \u001b[0mretries\u001b[0m\u001b[0;34m=\u001b[0m\u001b[0mself\u001b[0m\u001b[0;34m.\u001b[0m\u001b[0mmax_retries\u001b[0m\u001b[0;34m,\u001b[0m\u001b[0;34m\u001b[0m\u001b[0;34m\u001b[0m\u001b[0m\n\u001b[0;32m--> 449\u001b[0;31m                     \u001b[0mtimeout\u001b[0m\u001b[0;34m=\u001b[0m\u001b[0mtimeout\u001b[0m\u001b[0;34m\u001b[0m\u001b[0;34m\u001b[0m\u001b[0m\n\u001b[0m\u001b[1;32m    450\u001b[0m                 )\n\u001b[1;32m    451\u001b[0m \u001b[0;34m\u001b[0m\u001b[0m\n",
            "\u001b[0;32m/opt/anaconda3/lib/python3.7/site-packages/urllib3/connectionpool.py\u001b[0m in \u001b[0;36murlopen\u001b[0;34m(self, method, url, body, headers, retries, redirect, assert_same_host, timeout, pool_timeout, release_conn, chunked, body_pos, **response_kw)\u001b[0m\n\u001b[1;32m    704\u001b[0m                 \u001b[0mbody\u001b[0m\u001b[0;34m=\u001b[0m\u001b[0mbody\u001b[0m\u001b[0;34m,\u001b[0m\u001b[0;34m\u001b[0m\u001b[0;34m\u001b[0m\u001b[0m\n\u001b[1;32m    705\u001b[0m                 \u001b[0mheaders\u001b[0m\u001b[0;34m=\u001b[0m\u001b[0mheaders\u001b[0m\u001b[0;34m,\u001b[0m\u001b[0;34m\u001b[0m\u001b[0;34m\u001b[0m\u001b[0m\n\u001b[0;32m--> 706\u001b[0;31m                 \u001b[0mchunked\u001b[0m\u001b[0;34m=\u001b[0m\u001b[0mchunked\u001b[0m\u001b[0;34m,\u001b[0m\u001b[0;34m\u001b[0m\u001b[0;34m\u001b[0m\u001b[0m\n\u001b[0m\u001b[1;32m    707\u001b[0m             )\n\u001b[1;32m    708\u001b[0m \u001b[0;34m\u001b[0m\u001b[0m\n",
            "\u001b[0;32m/opt/anaconda3/lib/python3.7/site-packages/urllib3/connectionpool.py\u001b[0m in \u001b[0;36m_make_request\u001b[0;34m(self, conn, method, url, timeout, chunked, **httplib_request_kw)\u001b[0m\n\u001b[1;32m    443\u001b[0m                     \u001b[0;31m# Python 3 (including for exceptions like SystemExit).\u001b[0m\u001b[0;34m\u001b[0m\u001b[0;34m\u001b[0m\u001b[0;34m\u001b[0m\u001b[0m\n\u001b[1;32m    444\u001b[0m                     \u001b[0;31m# Otherwise it looks like a bug in the code.\u001b[0m\u001b[0;34m\u001b[0m\u001b[0;34m\u001b[0m\u001b[0;34m\u001b[0m\u001b[0m\n\u001b[0;32m--> 445\u001b[0;31m                     \u001b[0msix\u001b[0m\u001b[0;34m.\u001b[0m\u001b[0mraise_from\u001b[0m\u001b[0;34m(\u001b[0m\u001b[0me\u001b[0m\u001b[0;34m,\u001b[0m \u001b[0;32mNone\u001b[0m\u001b[0;34m)\u001b[0m\u001b[0;34m\u001b[0m\u001b[0;34m\u001b[0m\u001b[0m\n\u001b[0m\u001b[1;32m    446\u001b[0m         \u001b[0;32mexcept\u001b[0m \u001b[0;34m(\u001b[0m\u001b[0mSocketTimeout\u001b[0m\u001b[0;34m,\u001b[0m \u001b[0mBaseSSLError\u001b[0m\u001b[0;34m,\u001b[0m \u001b[0mSocketError\u001b[0m\u001b[0;34m)\u001b[0m \u001b[0;32mas\u001b[0m \u001b[0me\u001b[0m\u001b[0;34m:\u001b[0m\u001b[0;34m\u001b[0m\u001b[0;34m\u001b[0m\u001b[0m\n\u001b[1;32m    447\u001b[0m             \u001b[0mself\u001b[0m\u001b[0;34m.\u001b[0m\u001b[0m_raise_timeout\u001b[0m\u001b[0;34m(\u001b[0m\u001b[0merr\u001b[0m\u001b[0;34m=\u001b[0m\u001b[0me\u001b[0m\u001b[0;34m,\u001b[0m \u001b[0murl\u001b[0m\u001b[0;34m=\u001b[0m\u001b[0murl\u001b[0m\u001b[0;34m,\u001b[0m \u001b[0mtimeout_value\u001b[0m\u001b[0;34m=\u001b[0m\u001b[0mread_timeout\u001b[0m\u001b[0;34m)\u001b[0m\u001b[0;34m\u001b[0m\u001b[0;34m\u001b[0m\u001b[0m\n",
            "\u001b[0;32m/opt/anaconda3/lib/python3.7/site-packages/urllib3/packages/six.py\u001b[0m in \u001b[0;36mraise_from\u001b[0;34m(value, from_value)\u001b[0m\n",
            "\u001b[0;32m/opt/anaconda3/lib/python3.7/site-packages/urllib3/connectionpool.py\u001b[0m in \u001b[0;36m_make_request\u001b[0;34m(self, conn, method, url, timeout, chunked, **httplib_request_kw)\u001b[0m\n\u001b[1;32m    438\u001b[0m                 \u001b[0;31m# Python 3\u001b[0m\u001b[0;34m\u001b[0m\u001b[0;34m\u001b[0m\u001b[0;34m\u001b[0m\u001b[0m\n\u001b[1;32m    439\u001b[0m                 \u001b[0;32mtry\u001b[0m\u001b[0;34m:\u001b[0m\u001b[0;34m\u001b[0m\u001b[0;34m\u001b[0m\u001b[0m\n\u001b[0;32m--> 440\u001b[0;31m                     \u001b[0mhttplib_response\u001b[0m \u001b[0;34m=\u001b[0m \u001b[0mconn\u001b[0m\u001b[0;34m.\u001b[0m\u001b[0mgetresponse\u001b[0m\u001b[0;34m(\u001b[0m\u001b[0;34m)\u001b[0m\u001b[0;34m\u001b[0m\u001b[0;34m\u001b[0m\u001b[0m\n\u001b[0m\u001b[1;32m    441\u001b[0m                 \u001b[0;32mexcept\u001b[0m \u001b[0mBaseException\u001b[0m \u001b[0;32mas\u001b[0m \u001b[0me\u001b[0m\u001b[0;34m:\u001b[0m\u001b[0;34m\u001b[0m\u001b[0;34m\u001b[0m\u001b[0m\n\u001b[1;32m    442\u001b[0m                     \u001b[0;31m# Remove the TypeError from the exception chain in\u001b[0m\u001b[0;34m\u001b[0m\u001b[0;34m\u001b[0m\u001b[0;34m\u001b[0m\u001b[0m\n",
            "\u001b[0;32m/opt/anaconda3/lib/python3.7/http/client.py\u001b[0m in \u001b[0;36mgetresponse\u001b[0;34m(self)\u001b[0m\n\u001b[1;32m   1342\u001b[0m         \u001b[0;32mtry\u001b[0m\u001b[0;34m:\u001b[0m\u001b[0;34m\u001b[0m\u001b[0;34m\u001b[0m\u001b[0m\n\u001b[1;32m   1343\u001b[0m             \u001b[0;32mtry\u001b[0m\u001b[0;34m:\u001b[0m\u001b[0;34m\u001b[0m\u001b[0;34m\u001b[0m\u001b[0m\n\u001b[0;32m-> 1344\u001b[0;31m                 \u001b[0mresponse\u001b[0m\u001b[0;34m.\u001b[0m\u001b[0mbegin\u001b[0m\u001b[0;34m(\u001b[0m\u001b[0;34m)\u001b[0m\u001b[0;34m\u001b[0m\u001b[0;34m\u001b[0m\u001b[0m\n\u001b[0m\u001b[1;32m   1345\u001b[0m             \u001b[0;32mexcept\u001b[0m \u001b[0mConnectionError\u001b[0m\u001b[0;34m:\u001b[0m\u001b[0;34m\u001b[0m\u001b[0;34m\u001b[0m\u001b[0m\n\u001b[1;32m   1346\u001b[0m                 \u001b[0mself\u001b[0m\u001b[0;34m.\u001b[0m\u001b[0mclose\u001b[0m\u001b[0;34m(\u001b[0m\u001b[0;34m)\u001b[0m\u001b[0;34m\u001b[0m\u001b[0;34m\u001b[0m\u001b[0m\n",
            "\u001b[0;32m/opt/anaconda3/lib/python3.7/http/client.py\u001b[0m in \u001b[0;36mbegin\u001b[0;34m(self)\u001b[0m\n\u001b[1;32m    304\u001b[0m         \u001b[0;31m# read until we get a non-100 response\u001b[0m\u001b[0;34m\u001b[0m\u001b[0;34m\u001b[0m\u001b[0;34m\u001b[0m\u001b[0m\n\u001b[1;32m    305\u001b[0m         \u001b[0;32mwhile\u001b[0m \u001b[0;32mTrue\u001b[0m\u001b[0;34m:\u001b[0m\u001b[0;34m\u001b[0m\u001b[0;34m\u001b[0m\u001b[0m\n\u001b[0;32m--> 306\u001b[0;31m             \u001b[0mversion\u001b[0m\u001b[0;34m,\u001b[0m \u001b[0mstatus\u001b[0m\u001b[0;34m,\u001b[0m \u001b[0mreason\u001b[0m \u001b[0;34m=\u001b[0m \u001b[0mself\u001b[0m\u001b[0;34m.\u001b[0m\u001b[0m_read_status\u001b[0m\u001b[0;34m(\u001b[0m\u001b[0;34m)\u001b[0m\u001b[0;34m\u001b[0m\u001b[0;34m\u001b[0m\u001b[0m\n\u001b[0m\u001b[1;32m    307\u001b[0m             \u001b[0;32mif\u001b[0m \u001b[0mstatus\u001b[0m \u001b[0;34m!=\u001b[0m \u001b[0mCONTINUE\u001b[0m\u001b[0;34m:\u001b[0m\u001b[0;34m\u001b[0m\u001b[0;34m\u001b[0m\u001b[0m\n\u001b[1;32m    308\u001b[0m                 \u001b[0;32mbreak\u001b[0m\u001b[0;34m\u001b[0m\u001b[0;34m\u001b[0m\u001b[0m\n",
            "\u001b[0;32m/opt/anaconda3/lib/python3.7/http/client.py\u001b[0m in \u001b[0;36m_read_status\u001b[0;34m(self)\u001b[0m\n\u001b[1;32m    265\u001b[0m \u001b[0;34m\u001b[0m\u001b[0m\n\u001b[1;32m    266\u001b[0m     \u001b[0;32mdef\u001b[0m \u001b[0m_read_status\u001b[0m\u001b[0;34m(\u001b[0m\u001b[0mself\u001b[0m\u001b[0;34m)\u001b[0m\u001b[0;34m:\u001b[0m\u001b[0;34m\u001b[0m\u001b[0;34m\u001b[0m\u001b[0m\n\u001b[0;32m--> 267\u001b[0;31m         \u001b[0mline\u001b[0m \u001b[0;34m=\u001b[0m \u001b[0mstr\u001b[0m\u001b[0;34m(\u001b[0m\u001b[0mself\u001b[0m\u001b[0;34m.\u001b[0m\u001b[0mfp\u001b[0m\u001b[0;34m.\u001b[0m\u001b[0mreadline\u001b[0m\u001b[0;34m(\u001b[0m\u001b[0m_MAXLINE\u001b[0m \u001b[0;34m+\u001b[0m \u001b[0;36m1\u001b[0m\u001b[0;34m)\u001b[0m\u001b[0;34m,\u001b[0m \u001b[0;34m\"iso-8859-1\"\u001b[0m\u001b[0;34m)\u001b[0m\u001b[0;34m\u001b[0m\u001b[0;34m\u001b[0m\u001b[0m\n\u001b[0m\u001b[1;32m    268\u001b[0m         \u001b[0;32mif\u001b[0m \u001b[0mlen\u001b[0m\u001b[0;34m(\u001b[0m\u001b[0mline\u001b[0m\u001b[0;34m)\u001b[0m \u001b[0;34m>\u001b[0m \u001b[0m_MAXLINE\u001b[0m\u001b[0;34m:\u001b[0m\u001b[0;34m\u001b[0m\u001b[0;34m\u001b[0m\u001b[0m\n\u001b[1;32m    269\u001b[0m             \u001b[0;32mraise\u001b[0m \u001b[0mLineTooLong\u001b[0m\u001b[0;34m(\u001b[0m\u001b[0;34m\"status line\"\u001b[0m\u001b[0;34m)\u001b[0m\u001b[0;34m\u001b[0m\u001b[0;34m\u001b[0m\u001b[0m\n",
            "\u001b[0;32m/opt/anaconda3/lib/python3.7/socket.py\u001b[0m in \u001b[0;36mreadinto\u001b[0;34m(self, b)\u001b[0m\n\u001b[1;32m    587\u001b[0m         \u001b[0;32mwhile\u001b[0m \u001b[0;32mTrue\u001b[0m\u001b[0;34m:\u001b[0m\u001b[0;34m\u001b[0m\u001b[0;34m\u001b[0m\u001b[0m\n\u001b[1;32m    588\u001b[0m             \u001b[0;32mtry\u001b[0m\u001b[0;34m:\u001b[0m\u001b[0;34m\u001b[0m\u001b[0;34m\u001b[0m\u001b[0m\n\u001b[0;32m--> 589\u001b[0;31m                 \u001b[0;32mreturn\u001b[0m \u001b[0mself\u001b[0m\u001b[0;34m.\u001b[0m\u001b[0m_sock\u001b[0m\u001b[0;34m.\u001b[0m\u001b[0mrecv_into\u001b[0m\u001b[0;34m(\u001b[0m\u001b[0mb\u001b[0m\u001b[0;34m)\u001b[0m\u001b[0;34m\u001b[0m\u001b[0;34m\u001b[0m\u001b[0m\n\u001b[0m\u001b[1;32m    590\u001b[0m             \u001b[0;32mexcept\u001b[0m \u001b[0mtimeout\u001b[0m\u001b[0;34m:\u001b[0m\u001b[0;34m\u001b[0m\u001b[0;34m\u001b[0m\u001b[0m\n\u001b[1;32m    591\u001b[0m                 \u001b[0mself\u001b[0m\u001b[0;34m.\u001b[0m\u001b[0m_timeout_occurred\u001b[0m \u001b[0;34m=\u001b[0m \u001b[0;32mTrue\u001b[0m\u001b[0;34m\u001b[0m\u001b[0;34m\u001b[0m\u001b[0m\n",
            "\u001b[0;32m/opt/anaconda3/lib/python3.7/ssl.py\u001b[0m in \u001b[0;36mrecv_into\u001b[0;34m(self, buffer, nbytes, flags)\u001b[0m\n\u001b[1;32m   1069\u001b[0m                   \u001b[0;34m\"non-zero flags not allowed in calls to recv_into() on %s\"\u001b[0m \u001b[0;34m%\u001b[0m\u001b[0;34m\u001b[0m\u001b[0;34m\u001b[0m\u001b[0m\n\u001b[1;32m   1070\u001b[0m                   self.__class__)\n\u001b[0;32m-> 1071\u001b[0;31m             \u001b[0;32mreturn\u001b[0m \u001b[0mself\u001b[0m\u001b[0;34m.\u001b[0m\u001b[0mread\u001b[0m\u001b[0;34m(\u001b[0m\u001b[0mnbytes\u001b[0m\u001b[0;34m,\u001b[0m \u001b[0mbuffer\u001b[0m\u001b[0;34m)\u001b[0m\u001b[0;34m\u001b[0m\u001b[0;34m\u001b[0m\u001b[0m\n\u001b[0m\u001b[1;32m   1072\u001b[0m         \u001b[0;32melse\u001b[0m\u001b[0;34m:\u001b[0m\u001b[0;34m\u001b[0m\u001b[0;34m\u001b[0m\u001b[0m\n\u001b[1;32m   1073\u001b[0m             \u001b[0;32mreturn\u001b[0m \u001b[0msuper\u001b[0m\u001b[0;34m(\u001b[0m\u001b[0;34m)\u001b[0m\u001b[0;34m.\u001b[0m\u001b[0mrecv_into\u001b[0m\u001b[0;34m(\u001b[0m\u001b[0mbuffer\u001b[0m\u001b[0;34m,\u001b[0m \u001b[0mnbytes\u001b[0m\u001b[0;34m,\u001b[0m \u001b[0mflags\u001b[0m\u001b[0;34m)\u001b[0m\u001b[0;34m\u001b[0m\u001b[0;34m\u001b[0m\u001b[0m\n",
            "\u001b[0;32m/opt/anaconda3/lib/python3.7/ssl.py\u001b[0m in \u001b[0;36mread\u001b[0;34m(self, len, buffer)\u001b[0m\n\u001b[1;32m    927\u001b[0m         \u001b[0;32mtry\u001b[0m\u001b[0;34m:\u001b[0m\u001b[0;34m\u001b[0m\u001b[0;34m\u001b[0m\u001b[0m\n\u001b[1;32m    928\u001b[0m             \u001b[0;32mif\u001b[0m \u001b[0mbuffer\u001b[0m \u001b[0;32mis\u001b[0m \u001b[0;32mnot\u001b[0m \u001b[0;32mNone\u001b[0m\u001b[0;34m:\u001b[0m\u001b[0;34m\u001b[0m\u001b[0;34m\u001b[0m\u001b[0m\n\u001b[0;32m--> 929\u001b[0;31m                 \u001b[0;32mreturn\u001b[0m \u001b[0mself\u001b[0m\u001b[0;34m.\u001b[0m\u001b[0m_sslobj\u001b[0m\u001b[0;34m.\u001b[0m\u001b[0mread\u001b[0m\u001b[0;34m(\u001b[0m\u001b[0mlen\u001b[0m\u001b[0;34m,\u001b[0m \u001b[0mbuffer\u001b[0m\u001b[0;34m)\u001b[0m\u001b[0;34m\u001b[0m\u001b[0;34m\u001b[0m\u001b[0m\n\u001b[0m\u001b[1;32m    930\u001b[0m             \u001b[0;32melse\u001b[0m\u001b[0;34m:\u001b[0m\u001b[0;34m\u001b[0m\u001b[0;34m\u001b[0m\u001b[0m\n\u001b[1;32m    931\u001b[0m                 \u001b[0;32mreturn\u001b[0m \u001b[0mself\u001b[0m\u001b[0;34m.\u001b[0m\u001b[0m_sslobj\u001b[0m\u001b[0;34m.\u001b[0m\u001b[0mread\u001b[0m\u001b[0;34m(\u001b[0m\u001b[0mlen\u001b[0m\u001b[0;34m)\u001b[0m\u001b[0;34m\u001b[0m\u001b[0;34m\u001b[0m\u001b[0m\n",
            "\u001b[0;31mKeyboardInterrupt\u001b[0m: "
          ]
        }
      ],
      "metadata": {
        "scrolled": true,
        "id": "Bb4Wt83btY86",
        "outputId": "848011c9-d41e-4445-fa02-8f5a33a226ca"
      }
    },
    {
      "cell_type": "code",
      "execution_count": null,
      "source": [
        "books = pd.DataFrame(all_books)"
      ],
      "outputs": [],
      "metadata": {
        "id": "9NH82yTDtY87"
      }
    },
    {
      "cell_type": "code",
      "execution_count": null,
      "source": [
        "books.to_csv('books_data_50.csv')"
      ],
      "outputs": [],
      "metadata": {
        "id": "W4r9d0gutY87"
      }
    },
    {
      "cell_type": "code",
      "execution_count": null,
      "source": [
        "books = pd.read_csv('books_data_40.csv')\n",
        "books.drop('Unnamed: 0',axis = 1,inplace = True)"
      ],
      "outputs": [],
      "metadata": {
        "id": "lxLxqcD7tY88"
      }
    },
    {
      "cell_type": "code",
      "execution_count": null,
      "source": [
        "books.info()"
      ],
      "outputs": [
        {
          "output_type": "stream",
          "name": "stdout",
          "text": [
            "<class 'pandas.core.frame.DataFrame'>\n",
            "RangeIndex: 3352 entries, 0 to 3351\n",
            "Data columns (total 5 columns):\n",
            " #   Column          Non-Null Count  Dtype  \n",
            "---  ------          --------------  -----  \n",
            " 0   title           3352 non-null   object \n",
            " 1   author          3352 non-null   object \n",
            " 2   average_rating  3352 non-null   float64\n",
            " 3   genre           3352 non-null   object \n",
            " 4   description     3352 non-null   object \n",
            "dtypes: float64(1), object(4)\n",
            "memory usage: 131.1+ KB\n"
          ]
        }
      ],
      "metadata": {
        "id": "2UEFaoTMtY88",
        "outputId": "6a93c4f3-6aac-4439-aa3f-ba007e5c0a3b"
      }
    },
    {
      "cell_type": "code",
      "execution_count": null,
      "source": [
        "#shape of the final dataframe\n",
        "books.shape"
      ],
      "outputs": [
        {
          "output_type": "execute_result",
          "data": {
            "text/plain": [
              "(3352, 5)"
            ]
          },
          "metadata": {},
          "execution_count": 6
        }
      ],
      "metadata": {
        "scrolled": true,
        "id": "3yZG7-mltY89",
        "outputId": "625fd5ee-4cb6-47b9-abff-16a1918e3bf8"
      }
    },
    {
      "cell_type": "markdown",
      "source": [
        "## EDA"
      ],
      "metadata": {
        "id": "3EspGQU8tY89"
      }
    },
    {
      "cell_type": "code",
      "execution_count": null,
      "source": [
        "#checking null values\n",
        "books.isnull().sum()"
      ],
      "outputs": [
        {
          "output_type": "execute_result",
          "data": {
            "text/plain": [
              "title             0\n",
              "author            0\n",
              "average_rating    0\n",
              "genre             0\n",
              "description       0\n",
              "dtype: int64"
            ]
          },
          "metadata": {},
          "execution_count": 7
        }
      ],
      "metadata": {
        "id": "DHVDQysUtY8-",
        "outputId": "48146de6-dc2b-41cb-99f9-81f30770556d"
      }
    },
    {
      "cell_type": "code",
      "execution_count": null,
      "source": [
        "#checking duplicate rows\n",
        "books.duplicated().sum()"
      ],
      "outputs": [
        {
          "output_type": "execute_result",
          "data": {
            "text/plain": [
              "16"
            ]
          },
          "metadata": {},
          "execution_count": 8
        }
      ],
      "metadata": {
        "id": "AYcc8nM5tY8_",
        "outputId": "bc7ff51a-169c-46aa-82fc-2e04ad82b076"
      }
    },
    {
      "cell_type": "code",
      "execution_count": null,
      "source": [
        "#dropping duplicates\n",
        "books.drop_duplicates(keep = 'first',inplace = True)"
      ],
      "outputs": [],
      "metadata": {
        "id": "xkJHtSwZtY8_"
      }
    },
    {
      "cell_type": "code",
      "execution_count": null,
      "source": [
        "#check value count by genre\n",
        "books.genre.value_counts()"
      ],
      "outputs": [
        {
          "output_type": "execute_result",
          "data": {
            "text/plain": [
              "Fiction             802\n",
              "Nonfiction          391\n",
              "Fantasy             324\n",
              "Classics            302\n",
              "Young Adult         182\n",
              "                   ... \n",
              "Literary Fiction      1\n",
              "Design                1\n",
              "Food and Drink        1\n",
              "Occult                1\n",
              "Magical Realism       1\n",
              "Name: genre, Length: 77, dtype: int64"
            ]
          },
          "metadata": {},
          "execution_count": 10
        }
      ],
      "metadata": {
        "id": "xWhjLjBxtY8_",
        "outputId": "f0483f32-3c91-42cb-8c98-8ca6796a3536"
      }
    },
    {
      "cell_type": "markdown",
      "source": [
        "### Distribution of data by Genre"
      ],
      "metadata": {
        "id": "wtkyZ8zltY9A"
      }
    },
    {
      "cell_type": "code",
      "execution_count": null,
      "source": [
        "books['genre'].value_counts().plot(x='genre',y = 'count',kind = 'bar',figsize = (20,5))"
      ],
      "outputs": [
        {
          "output_type": "execute_result",
          "data": {
            "text/plain": [
              "<AxesSubplot:>"
            ]
          },
          "metadata": {},
          "execution_count": 11
        },
        {
          "output_type": "display_data",
          "data": {
            "image/png": "[encoded data removed]",
            "text/plain": [
              "<Figure size 1440x360 with 1 Axes>"
            ]
          },
          "metadata": {
            "needs_background": "light"
          }
        }
      ],
      "metadata": {
        "scrolled": false,
        "id": "KALdiY7rtY9A",
        "outputId": "4f5ce40b-de05-4852-b72b-ad3ed4f2095c"
      }
    },
    {
      "cell_type": "markdown",
      "source": [
        "The data is quite unbalanced. we will consider the first six categories for the final analysis."
      ],
      "metadata": {
        "id": "o6kyONZDtY9A"
      }
    },
    {
      "cell_type": "code",
      "execution_count": null,
      "source": [
        "#print the title and description of a random sample\n",
        "\n",
        "print(books['title'][10])\n",
        "books['description'][10]"
      ],
      "outputs": [
        {
          "output_type": "stream",
          "name": "stdout",
          "text": [
            "Romeo and Juliet\n"
          ]
        },
        {
          "output_type": "execute_result",
          "data": {
            "text/plain": [
              "'In Romeo and Juliet, Shakespeare creates a violent world, in which two young people fall in love. It is not simply that their families disapprove; the Montagues and the Capulets are engaged in a blood feud.In this death-filled setting, the movement from love at first sight to the lovers’ final union in death seems almost inevitable. And yet, this play set in an extraordina\\nIn Romeo and Juliet, Shakespeare creates a violent world, in which two young people fall in love. It is not simply that their families disapprove; the Montagues and the Capulets are engaged in a blood feud.In this death-filled setting, the movement from love at first sight to the lovers’ final union in death seems almost inevitable. And yet, this play set in an extraordinary world has become the quintessential story of young love. In part because of its exquisite language, it is easy to respond as if it were about all young lovers.\\n...more'"
            ]
          },
          "metadata": {},
          "execution_count": 12
        }
      ],
      "metadata": {
        "scrolled": true,
        "id": "GWJkkWdVtY9A",
        "outputId": "a7e0f321-556f-43f4-b2a0-1c1ea935c115"
      }
    },
    {
      "cell_type": "code",
      "execution_count": null,
      "source": [
        "#print the title and description of a random sample\n",
        "\n",
        "books.duplicated().sum()"
      ],
      "outputs": [
        {
          "output_type": "execute_result",
          "data": {
            "text/plain": [
              "0"
            ]
          },
          "metadata": {},
          "execution_count": 13
        }
      ],
      "metadata": {
        "id": "1uJCiuAUtY9B",
        "outputId": "7ec7c0f1-cf92-4047-8eaa-d5d0f789cdb1"
      }
    },
    {
      "cell_type": "code",
      "execution_count": null,
      "source": [
        "#Calculating the word count for book description and adding a new column to the dataframe\n",
        "\n",
        "import seaborn as sns\n",
        "import matplotlib.pyplot as plt\n",
        "\n",
        "books['word_count'] = books['description'].apply(lambda x: len(str(x).split()))  # Plotting the word count\n",
        "plt.figure(figsize=[12, 10])\n",
        "sns.displot(books['word_count'])\n"
      ],
      "outputs": [
        {
          "output_type": "execute_result",
          "data": {
            "text/plain": [
              "<seaborn.axisgrid.FacetGrid at 0x7fe237529850>"
            ]
          },
          "metadata": {},
          "execution_count": 14
        },
        {
          "output_type": "display_data",
          "data": {
            "text/plain": [
              "<Figure size 864x720 with 0 Axes>"
            ]
          },
          "metadata": {}
        },
        {
          "output_type": "display_data",
          "data": {
            "image/png": "[encoded data removed]",
            "text/plain": [
              "<Figure size 360x360 with 1 Axes>"
            ]
          },
          "metadata": {
            "needs_background": "light"
          }
        }
      ],
      "metadata": {
        "id": "a6asY0LAtY9B",
        "outputId": "03c9ea59-e2a5-4d94-c0ae-f8d126830e75"
      }
    },
    {
      "cell_type": "markdown",
      "source": [
        "The book descriptions are not too leangthy. Average length of book descriptions are mostly of 200 words."
      ],
      "metadata": {
        "id": "XkB8sy1btY9B"
      }
    },
    {
      "cell_type": "code",
      "execution_count": null,
      "source": [
        "books.head()"
      ],
      "outputs": [
        {
          "output_type": "execute_result",
          "data": {
            "text/html": [
              "<div>\n",
              "<style scoped>\n",
              "    .dataframe tbody tr th:only-of-type {\n",
              "        vertical-align: middle;\n",
              "    }\n",
              "\n",
              "    .dataframe tbody tr th {\n",
              "        vertical-align: top;\n",
              "    }\n",
              "\n",
              "    .dataframe thead th {\n",
              "        text-align: right;\n",
              "    }\n",
              "</style>\n",
              "<table border=\"1\" class=\"dataframe\">\n",
              "  <thead>\n",
              "    <tr style=\"text-align: right;\">\n",
              "      <th></th>\n",
              "      <th>title</th>\n",
              "      <th>author</th>\n",
              "      <th>average_rating</th>\n",
              "      <th>genre</th>\n",
              "      <th>description</th>\n",
              "      <th>word_count</th>\n",
              "    </tr>\n",
              "  </thead>\n",
              "  <tbody>\n",
              "    <tr>\n",
              "      <th>0</th>\n",
              "      <td>To Kill a Mockingbird</td>\n",
              "      <td>Harper Lee</td>\n",
              "      <td>4.27</td>\n",
              "      <td>Classics</td>\n",
              "      <td>The unforgettable novel of a childhood in a sl...</td>\n",
              "      <td>202</td>\n",
              "    </tr>\n",
              "    <tr>\n",
              "      <th>1</th>\n",
              "      <td>Pride and Prejudice</td>\n",
              "      <td>Jane Austen</td>\n",
              "      <td>4.27</td>\n",
              "      <td>Classics</td>\n",
              "      <td>Alternate cover edition of ISBN 9780679783268S...</td>\n",
              "      <td>158</td>\n",
              "    </tr>\n",
              "    <tr>\n",
              "      <th>2</th>\n",
              "      <td>The Diary of a Young Girl</td>\n",
              "      <td>Anne Frank</td>\n",
              "      <td>4.17</td>\n",
              "      <td>Nonfiction</td>\n",
              "      <td>Discovered in the attic in which she spent the...</td>\n",
              "      <td>232</td>\n",
              "    </tr>\n",
              "    <tr>\n",
              "      <th>3</th>\n",
              "      <td>Animal Farm</td>\n",
              "      <td>George Orwell</td>\n",
              "      <td>3.97</td>\n",
              "      <td>Classics</td>\n",
              "      <td>Librarian's note: There is an Alternate Cover ...</td>\n",
              "      <td>187</td>\n",
              "    </tr>\n",
              "    <tr>\n",
              "      <th>4</th>\n",
              "      <td>The Little Prince</td>\n",
              "      <td>Antoine de Saint-Exupéry</td>\n",
              "      <td>4.31</td>\n",
              "      <td>Classics</td>\n",
              "      <td>A pilot stranded in the desert awakes one morn...</td>\n",
              "      <td>195</td>\n",
              "    </tr>\n",
              "  </tbody>\n",
              "</table>\n",
              "</div>"
            ],
            "text/plain": [
              "                       title                    author  average_rating  \\\n",
              "0      To Kill a Mockingbird                Harper Lee            4.27   \n",
              "1        Pride and Prejudice               Jane Austen            4.27   \n",
              "2  The Diary of a Young Girl                Anne Frank            4.17   \n",
              "3                Animal Farm             George Orwell            3.97   \n",
              "4          The Little Prince  Antoine de Saint-Exupéry            4.31   \n",
              "\n",
              "        genre                                        description  word_count  \n",
              "0    Classics  The unforgettable novel of a childhood in a sl...         202  \n",
              "1    Classics  Alternate cover edition of ISBN 9780679783268S...         158  \n",
              "2  Nonfiction  Discovered in the attic in which she spent the...         232  \n",
              "3    Classics  Librarian's note: There is an Alternate Cover ...         187  \n",
              "4    Classics  A pilot stranded in the desert awakes one morn...         195  "
            ]
          },
          "metadata": {},
          "execution_count": 15
        }
      ],
      "metadata": {
        "id": "IZw7LwpjtY9B",
        "outputId": "aeb202f7-36d0-472b-90f1-d05c4f1e0662"
      }
    },
    {
      "cell_type": "code",
      "execution_count": null,
      "source": [
        ""
      ],
      "outputs": [],
      "metadata": {
        "id": "lUhPcnXdtY9C"
      }
    },
    {
      "cell_type": "markdown",
      "source": [
        "## Data Preprocessing"
      ],
      "metadata": {
        "id": "VviStHUTtY9C"
      }
    },
    {
      "cell_type": "code",
      "execution_count": null,
      "source": [
        "books['genre'].unique()"
      ],
      "outputs": [
        {
          "output_type": "execute_result",
          "data": {
            "text/plain": [
              "array(['Classics', 'Nonfiction', 'Historical', 'Fantasy', 'Fiction',\n",
              "       'Young Adult', 'Childrens', 'Science Fiction', 'Poetry', 'Horror',\n",
              "       'History', 'Mystery', 'Travel', 'Romance', 'Philosophy', 'Science',\n",
              "       'Sequential Art', 'Christian', 'Academic', 'Self Help', 'Language',\n",
              "       'Thriller', 'Religion', 'Plays', 'Cultural', 'Contemporary',\n",
              "       'Drama', 'Autobiography', 'Esoterica', 'Short Stories', 'Crime',\n",
              "       'Psychology', 'Feminism', 'Christian Fiction', 'Adventure',\n",
              "       'Biography', 'Food and Drink', 'Spirituality', 'Paranormal',\n",
              "       'Holiday', 'Novels', 'Epic', 'Inspirational', 'Apocalyptic',\n",
              "       'Book Club', 'Realistic Fiction', 'Economics', 'Polyamorous',\n",
              "       'Marriage', 'Education', 'Humor', 'Art', 'Business', 'Politics',\n",
              "       'Womens Fiction', 'Health', 'New Adult', 'Erotica',\n",
              "       'Shapeshifters', 'War', 'Design', 'Adult', 'Parenting', 'Gothic',\n",
              "       'Animals', 'LGBT', 'Modern', 'Literature', 'Magical Realism',\n",
              "       'Music', 'Dark', 'Suspense', 'Westerns', 'Medical', 'Comics',\n",
              "       'Occult', 'Literary Fiction'], dtype=object)"
            ]
          },
          "metadata": {},
          "execution_count": 16
        }
      ],
      "metadata": {
        "id": "I0O81A-BtY9C",
        "outputId": "c20110c2-1cef-4589-bcd2-850cfc483300"
      }
    },
    {
      "cell_type": "code",
      "execution_count": null,
      "source": [
        "#filtering #1  books with genres consiting more than 100 books\n",
        "df = books[books['genre'].map(books['genre'].value_counts()) > 100]"
      ],
      "outputs": [],
      "metadata": {
        "id": "LCX6neVPtY9C"
      }
    },
    {
      "cell_type": "code",
      "execution_count": null,
      "source": [
        "df['genre'].value_counts()"
      ],
      "outputs": [
        {
          "output_type": "execute_result",
          "data": {
            "text/plain": [
              "Fiction        802\n",
              "Nonfiction     391\n",
              "Fantasy        324\n",
              "Classics       302\n",
              "Young Adult    182\n",
              "Historical     159\n",
              "Mystery        127\n",
              "Name: genre, dtype: int64"
            ]
          },
          "metadata": {},
          "execution_count": 18
        }
      ],
      "metadata": {
        "id": "8H2u0aTGtY9C",
        "outputId": "35f9202d-3ebf-4478-acec-443f9e40036d"
      }
    },
    {
      "cell_type": "code",
      "execution_count": null,
      "source": [
        "# creating a sub dataframe of fiction books with  less than 160 word count.\n",
        "# As description is our main criteria for model accuracy and prediction , we are removing the books which has low word count.\n",
        "df2 = df[(df.genre == 'Fiction') & (df.word_count <= 160)]\n",
        "# dropping the  rows created in df2 from the df column.\n",
        "df.drop(df2.index,axis=0,inplace=True)"
      ],
      "outputs": [],
      "metadata": {
        "id": "NpnTuEN_tY9C"
      }
    },
    {
      "cell_type": "code",
      "execution_count": null,
      "source": [
        "df.genre.value_counts()\n",
        "# Updated genre count."
      ],
      "outputs": [
        {
          "output_type": "execute_result",
          "data": {
            "text/plain": [
              "Fiction        598\n",
              "Nonfiction     391\n",
              "Fantasy        324\n",
              "Classics       302\n",
              "Young Adult    182\n",
              "Historical     159\n",
              "Mystery        127\n",
              "Name: genre, dtype: int64"
            ]
          },
          "metadata": {},
          "execution_count": 20
        }
      ],
      "metadata": {
        "id": "OYjZ11zotY9C",
        "outputId": "5a7670c9-420a-413e-e17b-4ff7f56a8fcb"
      }
    },
    {
      "cell_type": "code",
      "execution_count": null,
      "source": [
        "df.genre.value_counts().plot(kind='pie', subplots=True, startangle=90,\n",
        "figsize=(15,10), autopct='%1.1f%%')"
      ],
      "outputs": [
        {
          "output_type": "execute_result",
          "data": {
            "text/plain": [
              "array([<AxesSubplot:ylabel='genre'>], dtype=object)"
            ]
          },
          "metadata": {},
          "execution_count": 21
        },
        {
          "output_type": "display_data",
          "data": {
            "image/png": "[encoded data removed]",
            "text/plain": [
              "<Figure size 1080x720 with 1 Axes>"
            ]
          },
          "metadata": {}
        }
      ],
      "metadata": {
        "id": "Lcff1NjdtY9D",
        "outputId": "ae5c15be-8ebf-4e3e-ef00-3e0198637142"
      }
    },
    {
      "cell_type": "code",
      "execution_count": null,
      "source": [
        "# Label encoding the Class column : Abusive = 0 and Non Abusive = 1\n",
        "\n",
        "le = preprocessing.LabelEncoder()\n",
        "le_fit = le.fit_transform(df.genre)\n",
        "df['genre_le'] = le.fit"
      ],
      "outputs": [],
      "metadata": {
        "id": "IOyplBtqtY9D"
      }
    },
    {
      "cell_type": "code",
      "execution_count": null,
      "source": [
        "le_fit"
      ],
      "outputs": [
        {
          "output_type": "execute_result",
          "data": {
            "text/plain": [
              "array([0, 0, 5, ..., 2, 1, 1])"
            ]
          },
          "metadata": {},
          "execution_count": 23
        }
      ],
      "metadata": {
        "id": "cgc4g361tY9D",
        "outputId": "e685cec0-85f1-4114-863d-5c867c0d2851"
      }
    },
    {
      "cell_type": "code",
      "execution_count": null,
      "source": [
        "df.genre.unique()\n",
        "df.head()\n"
      ],
      "outputs": [
        {
          "output_type": "error",
          "ename": "NameError",
          "evalue": "name 'df' is not defined",
          "traceback": [
            "\u001b[0;31m---------------------------------------------------------------------------\u001b[0m",
            "\u001b[0;31mNameError\u001b[0m                                 Traceback (most recent call last)",
            "\u001b[0;32m<ipython-input-1-2e5c89605796>\u001b[0m in \u001b[0;36m<module>\u001b[0;34m\u001b[0m\n\u001b[0;32m----> 1\u001b[0;31m \u001b[0mdf\u001b[0m\u001b[0;34m.\u001b[0m\u001b[0mgenre\u001b[0m\u001b[0;34m.\u001b[0m\u001b[0munique\u001b[0m\u001b[0;34m(\u001b[0m\u001b[0;34m)\u001b[0m\u001b[0;34m\u001b[0m\u001b[0;34m\u001b[0m\u001b[0m\n\u001b[0m\u001b[1;32m      2\u001b[0m \u001b[0mdf\u001b[0m\u001b[0;34m.\u001b[0m\u001b[0mhead\u001b[0m\u001b[0;34m(\u001b[0m\u001b[0;34m)\u001b[0m\u001b[0;34m\u001b[0m\u001b[0;34m\u001b[0m\u001b[0m\n",
            "\u001b[0;31mNameError\u001b[0m: name 'df' is not defined"
          ]
        }
      ],
      "metadata": {
        "id": "iTSbyRV4tY9D",
        "outputId": "b6b70513-5e6a-493e-baaf-35d6860e8892"
      }
    },
    {
      "cell_type": "code",
      "execution_count": null,
      "source": [
        "df['author'] = df['author'].str.replace(\" \",\"\")\n",
        "df['tags'] = df['author'] + \" \" + df['description']\n",
        "df.drop(['word_count', 'author', 'description'], axis=1, inplace=True)\n",
        "\n"
      ],
      "outputs": [
        {
          "output_type": "execute_result",
          "data": {
            "text/html": [
              "<div>\n",
              "<style scoped>\n",
              "    .dataframe tbody tr th:only-of-type {\n",
              "        vertical-align: middle;\n",
              "    }\n",
              "\n",
              "    .dataframe tbody tr th {\n",
              "        vertical-align: top;\n",
              "    }\n",
              "\n",
              "    .dataframe thead th {\n",
              "        text-align: right;\n",
              "    }\n",
              "</style>\n",
              "<table border=\"1\" class=\"dataframe\">\n",
              "  <thead>\n",
              "    <tr style=\"text-align: right;\">\n",
              "      <th></th>\n",
              "      <th>title</th>\n",
              "      <th>average_rating</th>\n",
              "      <th>genre</th>\n",
              "      <th>genre_le</th>\n",
              "      <th>tags</th>\n",
              "    </tr>\n",
              "  </thead>\n",
              "  <tbody>\n",
              "    <tr>\n",
              "      <th>0</th>\n",
              "      <td>To Kill a Mockingbird</td>\n",
              "      <td>4.27</td>\n",
              "      <td>Classics</td>\n",
              "      <td>0</td>\n",
              "      <td>harperlee the unforgettable novel of a childho...</td>\n",
              "    </tr>\n",
              "    <tr>\n",
              "      <th>1</th>\n",
              "      <td>Pride and Prejudice</td>\n",
              "      <td>4.27</td>\n",
              "      <td>Classics</td>\n",
              "      <td>0</td>\n",
              "      <td>janeausten alternate cover edition of isbn 978...</td>\n",
              "    </tr>\n",
              "    <tr>\n",
              "      <th>2</th>\n",
              "      <td>The Diary of a Young Girl</td>\n",
              "      <td>4.17</td>\n",
              "      <td>Nonfiction</td>\n",
              "      <td>5</td>\n",
              "      <td>annefrank discovered in the attic in which she...</td>\n",
              "    </tr>\n",
              "    <tr>\n",
              "      <th>3</th>\n",
              "      <td>Animal Farm</td>\n",
              "      <td>3.97</td>\n",
              "      <td>Classics</td>\n",
              "      <td>0</td>\n",
              "      <td>georgeorwell librarian's note: there is an alt...</td>\n",
              "    </tr>\n",
              "    <tr>\n",
              "      <th>4</th>\n",
              "      <td>The Little Prince</td>\n",
              "      <td>4.31</td>\n",
              "      <td>Classics</td>\n",
              "      <td>0</td>\n",
              "      <td>antoinedesaint-exupéry a pilot stranded in the...</td>\n",
              "    </tr>\n",
              "  </tbody>\n",
              "</table>\n",
              "</div>"
            ],
            "text/plain": [
              "                       title  average_rating       genre  genre_le  \\\n",
              "0      To Kill a Mockingbird            4.27    Classics         0   \n",
              "1        Pride and Prejudice            4.27    Classics         0   \n",
              "2  The Diary of a Young Girl            4.17  Nonfiction         5   \n",
              "3                Animal Farm            3.97    Classics         0   \n",
              "4          The Little Prince            4.31    Classics         0   \n",
              "\n",
              "                                                tags  \n",
              "0  harperlee the unforgettable novel of a childho...  \n",
              "1  janeausten alternate cover edition of isbn 978...  \n",
              "2  annefrank discovered in the attic in which she...  \n",
              "3  georgeorwell librarian's note: there is an alt...  \n",
              "4  antoinedesaint-exupéry a pilot stranded in the...  "
            ]
          },
          "metadata": {},
          "execution_count": 26
        }
      ],
      "metadata": {
        "id": "LgRCSMT2tY9D",
        "outputId": "0b5f7778-4450-416f-9c9a-4b76fa7414c9"
      }
    },
    {
      "cell_type": "code",
      "execution_count": null,
      "source": [
        "#text cleaning,lowercase,removing special characters\n",
        "\n",
        "def clean_summary(text):\n",
        "    # removing everything other than alphabets and numbers with spaces\n",
        "    text = re.sub('\\W+', ' ', text)\n",
        "    text = text.lower()  # converts all the text to lowercase\n",
        "    return text\n"
      ],
      "outputs": [],
      "metadata": {
        "id": "iR2qdE9CtY9D"
      }
    },
    {
      "cell_type": "code",
      "execution_count": null,
      "source": [
        "df['tags'] = df['tags'].apply(clean_summary)\n",
        "df.head()\n"
      ],
      "outputs": [],
      "metadata": {
        "id": "H8wb1ZwKtY9E"
      }
    },
    {
      "cell_type": "code",
      "execution_count": null,
      "source": [
        "#stemming\n",
        "ps = PorterStemmer()"
      ],
      "outputs": [],
      "metadata": {
        "id": "mqSTG0F9tY9E"
      }
    },
    {
      "cell_type": "code",
      "execution_count": null,
      "source": [
        "def stemming(text):\n",
        "    y = []\n",
        "    for i in text.split():\n",
        "        y.append(ps.stem(i))\n",
        "        \n",
        "    return \" \".join(y)"
      ],
      "outputs": [],
      "metadata": {
        "id": "Jaum2qKvtY9E"
      }
    },
    {
      "cell_type": "code",
      "execution_count": null,
      "source": [
        "df['tags'] = df['tags'].apply(stemming)\n",
        "df.head()"
      ],
      "outputs": [
        {
          "output_type": "execute_result",
          "data": {
            "text/html": [
              "<div>\n",
              "<style scoped>\n",
              "    .dataframe tbody tr th:only-of-type {\n",
              "        vertical-align: middle;\n",
              "    }\n",
              "\n",
              "    .dataframe tbody tr th {\n",
              "        vertical-align: top;\n",
              "    }\n",
              "\n",
              "    .dataframe thead th {\n",
              "        text-align: right;\n",
              "    }\n",
              "</style>\n",
              "<table border=\"1\" class=\"dataframe\">\n",
              "  <thead>\n",
              "    <tr style=\"text-align: right;\">\n",
              "      <th></th>\n",
              "      <th>title</th>\n",
              "      <th>average_rating</th>\n",
              "      <th>genre</th>\n",
              "      <th>genre_le</th>\n",
              "      <th>tags</th>\n",
              "    </tr>\n",
              "  </thead>\n",
              "  <tbody>\n",
              "    <tr>\n",
              "      <th>0</th>\n",
              "      <td>To Kill a Mockingbird</td>\n",
              "      <td>4.27</td>\n",
              "      <td>Classics</td>\n",
              "      <td>0</td>\n",
              "      <td>harperle the unforgett novel of a childhood in...</td>\n",
              "    </tr>\n",
              "    <tr>\n",
              "      <th>1</th>\n",
              "      <td>Pride and Prejudice</td>\n",
              "      <td>4.27</td>\n",
              "      <td>Classics</td>\n",
              "      <td>0</td>\n",
              "      <td>janeausten altern cover edit of isbn 978067978...</td>\n",
              "    </tr>\n",
              "    <tr>\n",
              "      <th>2</th>\n",
              "      <td>The Diary of a Young Girl</td>\n",
              "      <td>4.17</td>\n",
              "      <td>Nonfiction</td>\n",
              "      <td>5</td>\n",
              "      <td>annefrank discov in the attic in which she spe...</td>\n",
              "    </tr>\n",
              "    <tr>\n",
              "      <th>3</th>\n",
              "      <td>Animal Farm</td>\n",
              "      <td>3.97</td>\n",
              "      <td>Classics</td>\n",
              "      <td>0</td>\n",
              "      <td>georgeorwel librarian' note: there is an alter...</td>\n",
              "    </tr>\n",
              "    <tr>\n",
              "      <th>4</th>\n",
              "      <td>The Little Prince</td>\n",
              "      <td>4.31</td>\n",
              "      <td>Classics</td>\n",
              "      <td>0</td>\n",
              "      <td>antoinedesaint-exupéri a pilot strand in the d...</td>\n",
              "    </tr>\n",
              "  </tbody>\n",
              "</table>\n",
              "</div>"
            ],
            "text/plain": [
              "                       title  average_rating       genre  genre_le  \\\n",
              "0      To Kill a Mockingbird            4.27    Classics         0   \n",
              "1        Pride and Prejudice            4.27    Classics         0   \n",
              "2  The Diary of a Young Girl            4.17  Nonfiction         5   \n",
              "3                Animal Farm            3.97    Classics         0   \n",
              "4          The Little Prince            4.31    Classics         0   \n",
              "\n",
              "                                                tags  \n",
              "0  harperle the unforgett novel of a childhood in...  \n",
              "1  janeausten altern cover edit of isbn 978067978...  \n",
              "2  annefrank discov in the attic in which she spe...  \n",
              "3  georgeorwel librarian' note: there is an alter...  \n",
              "4  antoinedesaint-exupéri a pilot strand in the d...  "
            ]
          },
          "metadata": {},
          "execution_count": 29
        }
      ],
      "metadata": {
        "id": "S7qai9mwtY9E",
        "outputId": "65b6bda6-85bb-499f-c25e-6b766b0c4596"
      }
    },
    {
      "cell_type": "code",
      "execution_count": null,
      "source": [
        "# assign the independent features (text) to X variable and the target to y\n",
        "X = pd.DataFrame(df['tags'])\n",
        "y = df['genre_le']\n"
      ],
      "outputs": [],
      "metadata": {
        "id": "Ddx2Rcy8tY9E"
      }
    },
    {
      "cell_type": "code",
      "execution_count": null,
      "source": [
        "y"
      ],
      "outputs": [
        {
          "output_type": "execute_result",
          "data": {
            "text/plain": [
              "0       0\n",
              "1       0\n",
              "2       5\n",
              "3       0\n",
              "4       0\n",
              "       ..\n",
              "3344    2\n",
              "3345    2\n",
              "3346    2\n",
              "3348    1\n",
              "3351    1\n",
              "Name: genre_le, Length: 2083, dtype: int64"
            ]
          },
          "metadata": {},
          "execution_count": 31
        }
      ],
      "metadata": {
        "id": "DQrUfEm1tY9F",
        "outputId": "3013b93f-64ea-4c79-b314-943696321b40"
      }
    },
    {
      "cell_type": "code",
      "execution_count": null,
      "source": [
        "from imblearn.over_sampling import RandomOverSampler\n",
        "from imblearn.under_sampling import RandomUnderSampler"
      ],
      "outputs": [],
      "metadata": {
        "id": "zsJs3PeQtY9F"
      }
    },
    {
      "cell_type": "code",
      "execution_count": null,
      "source": [
        "y.value_counts()"
      ],
      "outputs": [
        {
          "output_type": "execute_result",
          "data": {
            "text/plain": [
              "2    598\n",
              "5    391\n",
              "1    324\n",
              "0    302\n",
              "6    182\n",
              "3    159\n",
              "4    127\n",
              "Name: genre_le, dtype: int64"
            ]
          },
          "metadata": {},
          "execution_count": 33
        }
      ],
      "metadata": {
        "scrolled": true,
        "id": "3wLrMc7EtY9F",
        "outputId": "b75bbcfc-b0d2-40ba-c535-cd1f2fa26c3b"
      }
    },
    {
      "cell_type": "code",
      "execution_count": null,
      "source": [
        "#performing oversampling on all genres except genre class  2\n",
        "strategy = {0:400, 1:400, 2:598, 3:400, 4:400, 5:400,6:400}\n",
        "os = RandomOverSampler(sampling_strategy = strategy)"
      ],
      "outputs": [],
      "metadata": {
        "id": "cHwwzG5gtY9F"
      }
    },
    {
      "cell_type": "code",
      "execution_count": null,
      "source": [
        "X_rs, y_rs = os.fit_resample(X,y)"
      ],
      "outputs": [],
      "metadata": {
        "id": "_KZFGrs2tY9F"
      }
    },
    {
      "cell_type": "code",
      "execution_count": null,
      "source": [
        "from collections import Counter\n",
        "print(Counter(y))\n"
      ],
      "outputs": [
        {
          "output_type": "stream",
          "name": "stdout",
          "text": [
            "Counter({2: 598, 5: 391, 1: 324, 0: 302, 6: 182, 3: 159, 4: 127})\n"
          ]
        }
      ],
      "metadata": {
        "id": "BFQcmMmwtY9F",
        "outputId": "257f954c-67fb-473b-af5a-88308750d001"
      }
    },
    {
      "cell_type": "code",
      "execution_count": null,
      "source": [
        "print(Counter(y_rs))"
      ],
      "outputs": [
        {
          "output_type": "stream",
          "name": "stdout",
          "text": [
            "Counter({2: 598, 0: 400, 5: 400, 3: 400, 1: 400, 6: 400, 4: 400})\n"
          ]
        }
      ],
      "metadata": {
        "id": "yYN8s3fstY9F",
        "outputId": "c4a8d0b9-85dc-49a3-8586-ad176f8128c2"
      }
    },
    {
      "cell_type": "code",
      "execution_count": null,
      "source": [
        "#performing undersampling on class 2\n",
        "strategy = {0:400, 1:400, 2:400, 3:400, 4:400,5:400,6:400}\n",
        "us = RandomUnderSampler(sampling_strategy = strategy)"
      ],
      "outputs": [],
      "metadata": {
        "id": "9bVZpTwKtY9G"
      }
    },
    {
      "cell_type": "code",
      "execution_count": null,
      "source": [
        "X_new, y_new = us.fit_resample(X_rs,y_rs)"
      ],
      "outputs": [],
      "metadata": {
        "id": "gM5PD28stY9G"
      }
    },
    {
      "cell_type": "code",
      "execution_count": null,
      "source": [
        "print(Counter(y_new))"
      ],
      "outputs": [
        {
          "output_type": "stream",
          "name": "stdout",
          "text": [
            "Counter({0: 400, 1: 400, 2: 400, 3: 400, 4: 400, 5: 400, 6: 400})\n"
          ]
        }
      ],
      "metadata": {
        "id": "RwXnkybztY9G",
        "outputId": "b4214653-e4e5-4909-96aa-11a37536d71d"
      }
    },
    {
      "cell_type": "code",
      "execution_count": null,
      "source": [
        "y_new.value_counts().plot(x='y_new',y = 'count',kind = 'bar')"
      ],
      "outputs": [
        {
          "output_type": "execute_result",
          "data": {
            "text/plain": [
              "<AxesSubplot:>"
            ]
          },
          "metadata": {},
          "execution_count": 41
        },
        {
          "output_type": "display_data",
          "data": {
            "image/png": "[encoded data removed]",
            "text/plain": [
              "<Figure size 432x288 with 1 Axes>"
            ]
          },
          "metadata": {
            "needs_background": "light"
          }
        }
      ],
      "metadata": {
        "scrolled": true,
        "id": "ASVyPXXmtY9G",
        "outputId": "8bbaaed3-68c9-4f72-ab4a-0829d8a8dae2"
      }
    },
    {
      "cell_type": "code",
      "execution_count": null,
      "source": [
        "y_new.shape"
      ],
      "outputs": [
        {
          "output_type": "execute_result",
          "data": {
            "text/plain": [
              "(2800,)"
            ]
          },
          "metadata": {},
          "execution_count": 42
        }
      ],
      "metadata": {
        "id": "jsgjKpDItY9G",
        "outputId": "cd0bdb89-832b-4d12-e37d-d4c53e43184e"
      }
    },
    {
      "cell_type": "markdown",
      "source": [
        "## Split the dataset into Train and Test sets"
      ],
      "metadata": {
        "id": "0V7swuxFtY9G"
      }
    },
    {
      "cell_type": "code",
      "execution_count": null,
      "source": [
        "#split data into training 80% and test 20%\n",
        "X_train, X_test, y_train, y_test = train_test_split(X_new, y_new, test_size=0.20)"
      ],
      "outputs": [],
      "metadata": {
        "id": "WvPDefeHtY9G"
      }
    },
    {
      "cell_type": "code",
      "execution_count": null,
      "source": [
        "X_train.head()"
      ],
      "outputs": [
        {
          "output_type": "execute_result",
          "data": {
            "text/html": [
              "<div>\n",
              "<style scoped>\n",
              "    .dataframe tbody tr th:only-of-type {\n",
              "        vertical-align: middle;\n",
              "    }\n",
              "\n",
              "    .dataframe tbody tr th {\n",
              "        vertical-align: top;\n",
              "    }\n",
              "\n",
              "    .dataframe thead th {\n",
              "        text-align: right;\n",
              "    }\n",
              "</style>\n",
              "<table border=\"1\" class=\"dataframe\">\n",
              "  <thead>\n",
              "    <tr style=\"text-align: right;\">\n",
              "      <th></th>\n",
              "      <th>tags</th>\n",
              "    </tr>\n",
              "  </thead>\n",
              "  <tbody>\n",
              "    <tr>\n",
              "      <th>2719</th>\n",
              "      <td>kirstenfullm gloria hasn’t had an easi life, s...</td>\n",
              "    </tr>\n",
              "    <tr>\n",
              "      <th>2259</th>\n",
              "      <td>edwardabbey first publish in 1968, desert soli...</td>\n",
              "    </tr>\n",
              "    <tr>\n",
              "      <th>2640</th>\n",
              "      <td>jenniferniven the fault in our star meet elean...</td>\n",
              "    </tr>\n",
              "    <tr>\n",
              "      <th>1649</th>\n",
              "      <td>agathachristi when alic asher is murder in and...</td>\n",
              "    </tr>\n",
              "    <tr>\n",
              "      <th>2159</th>\n",
              "      <td>gregmortenson from the author of the #1 bestse...</td>\n",
              "    </tr>\n",
              "  </tbody>\n",
              "</table>\n",
              "</div>"
            ],
            "text/plain": [
              "                                                   tags\n",
              "2719  kirstenfullm gloria hasn’t had an easi life, s...\n",
              "2259  edwardabbey first publish in 1968, desert soli...\n",
              "2640  jenniferniven the fault in our star meet elean...\n",
              "1649  agathachristi when alic asher is murder in and...\n",
              "2159  gregmortenson from the author of the #1 bestse..."
            ]
          },
          "metadata": {},
          "execution_count": 44
        }
      ],
      "metadata": {
        "scrolled": false,
        "id": "bsWxTMYqtY9G",
        "outputId": "a74a3dbd-a61d-48fc-f265-5ce50115f3c6"
      }
    },
    {
      "cell_type": "code",
      "execution_count": null,
      "source": [
        "x_train = X_train.iloc[:,0]\n",
        "x_train.head()"
      ],
      "outputs": [
        {
          "output_type": "execute_result",
          "data": {
            "text/plain": [
              "2719    kirstenfullm gloria hasn’t had an easi life, s...\n",
              "2259    edwardabbey first publish in 1968, desert soli...\n",
              "2640    jenniferniven the fault in our star meet elean...\n",
              "1649    agathachristi when alic asher is murder in and...\n",
              "2159    gregmortenson from the author of the #1 bestse...\n",
              "Name: tags, dtype: object"
            ]
          },
          "metadata": {},
          "execution_count": 45
        }
      ],
      "metadata": {
        "id": "n3z3kcKLtY9G",
        "outputId": "eddbde7b-8d38-40ae-e29f-b2e2ac15381c"
      }
    },
    {
      "cell_type": "markdown",
      "source": [
        "## CountVectorizer - Feature Extraction"
      ],
      "metadata": {
        "id": "hGbEOgsBtY9H"
      }
    },
    {
      "cell_type": "code",
      "execution_count": null,
      "source": [
        "#using countvectorizer\n",
        "cv = CountVectorizer(max_features = 10000)"
      ],
      "outputs": [],
      "metadata": {
        "id": "J8W5zcmTtY9H"
      }
    },
    {
      "cell_type": "code",
      "execution_count": null,
      "source": [
        "x = cv.fit_transform(x_train).toarray()\n",
        "x"
      ],
      "outputs": [
        {
          "output_type": "execute_result",
          "data": {
            "text/plain": [
              "array([[0, 0, 0, ..., 0, 0, 0],\n",
              "       [0, 0, 0, ..., 0, 0, 0],\n",
              "       [0, 0, 0, ..., 0, 0, 0],\n",
              "       ...,\n",
              "       [0, 0, 0, ..., 0, 0, 0],\n",
              "       [0, 0, 0, ..., 0, 0, 0],\n",
              "       [0, 2, 0, ..., 0, 0, 0]])"
            ]
          },
          "metadata": {},
          "execution_count": 47
        }
      ],
      "metadata": {
        "id": "WmIboUS0tY9H",
        "outputId": "e6788891-ab54-45d3-dace-7a99c470f114"
      }
    },
    {
      "cell_type": "code",
      "execution_count": null,
      "source": [
        "x_test = X_test.iloc[:,0]\n",
        "x_test.head()"
      ],
      "outputs": [
        {
          "output_type": "execute_result",
          "data": {
            "text/plain": [
              "192     kurtvonnegutjr. select by the modern librari a...\n",
              "2250    clarissapinkolaesté within everi woman there i...\n",
              "1681    angiekim how far will you go to protect your f...\n",
              "1467    irvingston lust for life is the classic fictio...\n",
              "1872    annefrasi for three years, detect jude fontain...\n",
              "Name: tags, dtype: object"
            ]
          },
          "metadata": {},
          "execution_count": 48
        }
      ],
      "metadata": {
        "id": "pCZTiq0VtY9H",
        "outputId": "35f0e4f7-720d-4276-b1e4-93474c9ac2b3"
      }
    },
    {
      "cell_type": "code",
      "execution_count": null,
      "source": [
        "test_x = cv.transform(x_test).toarray()\n",
        "test_x.shape"
      ],
      "outputs": [
        {
          "output_type": "execute_result",
          "data": {
            "text/plain": [
              "(560, 10000)"
            ]
          },
          "metadata": {},
          "execution_count": 49
        }
      ],
      "metadata": {
        "id": "CHtYyTlutY9H",
        "outputId": "79142bb9-49a5-4391-c56b-1e9b85ef33f1"
      }
    },
    {
      "cell_type": "markdown",
      "source": [
        "## Model Fitting"
      ],
      "metadata": {
        "id": "wVxdxBeItY9H"
      }
    },
    {
      "cell_type": "code",
      "execution_count": null,
      "source": [
        "# Creating empty lists to store model training time, model predicting time, model accuracy scores, model precision scores.\n",
        "training_time = []\n",
        "predicting_time = []\n",
        "accuracy_scores = []\n",
        "precision_scores = []\n",
        "recall_scores = []\n",
        "f1_scores = []"
      ],
      "outputs": [],
      "metadata": {
        "id": "_AwBF8WBtY9H"
      }
    },
    {
      "cell_type": "code",
      "execution_count": null,
      "source": [
        "model1 = MultinomialNB()"
      ],
      "outputs": [],
      "metadata": {
        "id": "6k74_NOMtY9H"
      }
    },
    {
      "cell_type": "code",
      "execution_count": null,
      "source": [
        "#train model and predict model training time\n",
        "t0 = time()\n",
        "model1.fit(x, y_train)\n",
        "print(\"\\nTraining time:\", round(time()-t0, 3), \"s\\n\")\n",
        "training_time.append(round(time()-t0, 3))"
      ],
      "outputs": [
        {
          "output_type": "stream",
          "name": "stdout",
          "text": [
            "\n",
            "Training time: 1.374 s\n",
            "\n"
          ]
        }
      ],
      "metadata": {
        "id": "ugRJjXdatY9I",
        "outputId": "b800101f-1676-4a50-fd66-2851ce008f81"
      }
    },
    {
      "cell_type": "code",
      "execution_count": null,
      "source": [
        "# Predit using the trained model\n",
        "t1 = time()\n",
        "predicted = model1.predict(test_x)\n",
        "print(\"Predicting time:\", round(time()-t1, 3), \"s\\n\")\n",
        "predicting_time.append(round(time()-t1, 3))"
      ],
      "outputs": [
        {
          "output_type": "stream",
          "name": "stdout",
          "text": [
            "Predicting time: 0.062 s\n",
            "\n"
          ]
        }
      ],
      "metadata": {
        "id": "0ZTNdRLxtY9I",
        "outputId": "3ec5698a-c701-4058-e595-03a1200cf39a"
      }
    },
    {
      "cell_type": "code",
      "execution_count": null,
      "source": [
        "## Evaluate model - Accuracy, Precision, Recall\n",
        "from sklearn.metrics import precision_recall_fscore_support\n",
        "\n",
        "print('\\nAccuracy Score',accuracy_score(y_test,predicted))\n",
        "\n",
        "accuracy_scores.append(accuracy_score(y_test,predicted).round(2))\n",
        "\n",
        "print(\"Classification Report:\\n\",classification_report(y_test, predicted))\n",
        "clf_rep = precision_recall_fscore_support(y_test,predicted)\n",
        "precision_scores.append(clf_rep[0][0].round(2))\n",
        "recall_scores.append(clf_rep[1][0].round(2))\n",
        "f1_scores.append(clf_rep[2][0].round(2))\n",
        "\n",
        "## Plot confusion matrix\n",
        "print(\"confusion matrix:\\n\",confusion_matrix(y_test, predicted))\n",
        "\n"
      ],
      "outputs": [
        {
          "output_type": "stream",
          "name": "stdout",
          "text": [
            "\n",
            "Accuracy Score 0.8339285714285715\n",
            "Classification Report:\n",
            "               precision    recall  f1-score   support\n",
            "\n",
            "           0       0.90      0.69      0.78        77\n",
            "           1       0.80      0.89      0.84        76\n",
            "           2       0.52      0.77      0.62        60\n",
            "           3       0.94      0.83      0.88        96\n",
            "           4       0.96      0.96      0.96        70\n",
            "           5       0.93      0.83      0.87        92\n",
            "           6       0.85      0.87      0.86        89\n",
            "\n",
            "    accuracy                           0.83       560\n",
            "   macro avg       0.84      0.83      0.83       560\n",
            "weighted avg       0.86      0.83      0.84       560\n",
            "\n",
            "confusion matrix:\n",
            " [[53  5 13  3  0  1  2]\n",
            " [ 2 68  0  0  0  0  6]\n",
            " [ 1  3 46  1  2  5  2]\n",
            " [ 1  2 11 80  0  0  2]\n",
            " [ 0  3  0  0 67  0  0]\n",
            " [ 2  0 10  1  1 76  2]\n",
            " [ 0  4  8  0  0  0 77]]\n"
          ]
        }
      ],
      "metadata": {
        "id": "UCxQ2-cctY9I",
        "outputId": "e3f03e54-091a-43e4-8a50-770fa590df72"
      }
    },
    {
      "cell_type": "code",
      "execution_count": null,
      "source": [
        "model2 = GaussianNB()"
      ],
      "outputs": [],
      "metadata": {
        "id": "MdLkariatY9I"
      }
    },
    {
      "cell_type": "code",
      "execution_count": null,
      "source": [
        "#train model and predict model training time\n",
        "t0 = time()\n",
        "model2.fit(x, y_train)\n",
        "print(\"\\nTraining time:\", round(time()-t0, 3), \"s\\n\")\n",
        "training_time.append(round(time()-t0, 3))"
      ],
      "outputs": [
        {
          "output_type": "stream",
          "name": "stdout",
          "text": [
            "\n",
            "Training time: 0.417 s\n",
            "\n"
          ]
        }
      ],
      "metadata": {
        "id": "o7EB5kcdtY9I",
        "outputId": "2fc88d17-7e39-44d2-ec9c-624032824713"
      }
    },
    {
      "cell_type": "code",
      "execution_count": null,
      "source": [
        "# Predit using the trained model\n",
        "t1 = time()\n",
        "predicted = model2.predict(test_x)\n",
        "print(\"Predicting time:\", round(time()-t1, 3), \"s\\n\")\n",
        "predicting_time.append(round(time()-t1, 3))"
      ],
      "outputs": [
        {
          "output_type": "stream",
          "name": "stdout",
          "text": [
            "Predicting time: 0.238 s\n",
            "\n"
          ]
        }
      ],
      "metadata": {
        "id": "m4sL_3MAtY9I",
        "outputId": "566a551d-c465-4f25-829f-dd8f430d7ecc"
      }
    },
    {
      "cell_type": "code",
      "execution_count": null,
      "source": [
        "## Evaluate model - Accuracy, Precision, Recall\n",
        "from sklearn.metrics import precision_recall_fscore_support\n",
        "\n",
        "print('\\nAccuracy Score',accuracy_score(y_test,predicted))\n",
        "\n",
        "accuracy_scores.append(accuracy_score(y_test,predicted).round(2))\n",
        "\n",
        "print(\"Classification Report:\\n\",classification_report(y_test, predicted))\n",
        "clf_rep = precision_recall_fscore_support(y_test,predicted)\n",
        "precision_scores.append(clf_rep[0][0].round(2))\n",
        "recall_scores.append(clf_rep[1][0].round(2))\n",
        "f1_scores.append(clf_rep[2][0].round(2))\n",
        "\n",
        "## Plot confusion matrix\n",
        "print(\"confusion matrix:\\n\",confusion_matrix(y_test, predicted))\n"
      ],
      "outputs": [
        {
          "output_type": "stream",
          "name": "stdout",
          "text": [
            "\n",
            "Accuracy Score 0.7232142857142857\n",
            "Classification Report:\n",
            "               precision    recall  f1-score   support\n",
            "\n",
            "           0       0.81      0.49      0.61        77\n",
            "           1       0.77      0.67      0.72        76\n",
            "           2       0.31      0.62      0.41        60\n",
            "           3       0.93      0.79      0.85        96\n",
            "           4       0.99      1.00      0.99        70\n",
            "           5       0.62      0.70      0.65        92\n",
            "           6       0.97      0.78      0.86        89\n",
            "\n",
            "    accuracy                           0.72       560\n",
            "   macro avg       0.77      0.72      0.73       560\n",
            "weighted avg       0.79      0.72      0.74       560\n",
            "\n",
            "confusion matrix:\n",
            " [[38  6 23  1  0  8  1]\n",
            " [ 3 51 13  0  0  8  1]\n",
            " [ 4  3 37  2  1 13  0]\n",
            " [ 0  2 13 76  0  5  0]\n",
            " [ 0  0  0  0 70  0  0]\n",
            " [ 2  2 24  0  0 64  0]\n",
            " [ 0  2  9  3  0  6 69]]\n"
          ]
        }
      ],
      "metadata": {
        "id": "BQ75YfMgtY9J",
        "outputId": "5c7a22a3-d2e6-4330-cae7-5715f0210eeb"
      }
    },
    {
      "cell_type": "code",
      "execution_count": null,
      "source": [
        "model3 = tree.DecisionTreeClassifier()"
      ],
      "outputs": [],
      "metadata": {
        "id": "1H5yen9GtY9J"
      }
    },
    {
      "cell_type": "code",
      "execution_count": null,
      "source": [
        "#train model and predict model training time\n",
        "t0 = time()\n",
        "model3.fit(x, y_train)\n",
        "print(\"\\nTraining time:\", round(time()-t0, 3), \"s\\n\")\n",
        "training_time.append(round(time()-t0, 3))"
      ],
      "outputs": [
        {
          "output_type": "stream",
          "name": "stdout",
          "text": [
            "\n",
            "Training time: 2.873 s\n",
            "\n"
          ]
        }
      ],
      "metadata": {
        "id": "QUCmLsHAtY9J",
        "outputId": "701bd47f-35b2-45ea-98bb-d62e796beea6"
      }
    },
    {
      "cell_type": "code",
      "execution_count": null,
      "source": [
        "# Predit using the trained model\n",
        "t1 = time()\n",
        "predicted = model3.predict(test_x)\n",
        "print(\"Predicting time:\", round(time()-t1, 3), \"s\\n\")\n",
        "predicting_time.append(round(time()-t1, 3))"
      ],
      "outputs": [
        {
          "output_type": "stream",
          "name": "stdout",
          "text": [
            "Predicting time: 0.015 s\n",
            "\n"
          ]
        }
      ],
      "metadata": {
        "id": "WTLR28-otY9J",
        "outputId": "36f4b551-0d4f-41c3-8eef-762fa647c0f3"
      }
    },
    {
      "cell_type": "code",
      "execution_count": null,
      "source": [
        "## Evaluate model - Accuracy, Precision, Recall\n",
        "from sklearn.metrics import precision_recall_fscore_support\n",
        "\n",
        "print('\\nAccuracy Score',accuracy_score(y_test,predicted))\n",
        "\n",
        "accuracy_scores.append(accuracy_score(y_test,predicted).round(2))\n",
        "\n",
        "print(\"Classification Report:\\n\",classification_report(y_test, predicted))\n",
        "clf_rep = precision_recall_fscore_support(y_test,predicted)\n",
        "precision_scores.append(clf_rep[0][0].round(2))\n",
        "recall_scores.append(clf_rep[1][0].round(2))\n",
        "f1_scores.append(clf_rep[2][0].round(2))\n",
        "\n",
        "## Plot confusion matrix\n",
        "print(\"confusion matrix:\\n\",confusion_matrix(y_test, predicted))\n"
      ],
      "outputs": [
        {
          "output_type": "stream",
          "name": "stdout",
          "text": [
            "\n",
            "Accuracy Score 0.6428571428571429\n",
            "Classification Report:\n",
            "               precision    recall  f1-score   support\n",
            "\n",
            "           0       0.50      0.58      0.54        77\n",
            "           1       0.55      0.53      0.54        76\n",
            "           2       0.22      0.17      0.19        60\n",
            "           3       0.76      0.85      0.80        96\n",
            "           4       0.84      1.00      0.92        70\n",
            "           5       0.61      0.41      0.49        92\n",
            "           6       0.77      0.84      0.80        89\n",
            "\n",
            "    accuracy                           0.64       560\n",
            "   macro avg       0.61      0.63      0.61       560\n",
            "weighted avg       0.62      0.64      0.63       560\n",
            "\n",
            "confusion matrix:\n",
            " [[45  4 11  4  1  8  4]\n",
            " [ 9 40  6  8  0  8  5]\n",
            " [16 12 10  6  7  5  4]\n",
            " [ 7  4  2 82  0  1  0]\n",
            " [ 0  0  0  0 70  0  0]\n",
            " [ 9 10 14  6  5 38 10]\n",
            " [ 4  3  3  2  0  2 75]]\n"
          ]
        }
      ],
      "metadata": {
        "id": "vUvEhjlQtY9J",
        "outputId": "60acd6fb-a19a-4db2-eef9-0a39d5b77c8a"
      }
    },
    {
      "cell_type": "code",
      "execution_count": null,
      "source": [
        "model5 = KNeighborsClassifier(n_neighbors=5, metric='euclidean')"
      ],
      "outputs": [],
      "metadata": {
        "id": "5SEQwVSetY9K"
      }
    },
    {
      "cell_type": "code",
      "execution_count": null,
      "source": [
        "#train model and predict model training time\n",
        "t0 = time()\n",
        "model5.fit(x, y_train)\n",
        "print(\"\\nTraining time:\", round(time()-t0, 3), \"s\\n\")\n",
        "training_time.append(round(time()-t0, 3))"
      ],
      "outputs": [
        {
          "output_type": "stream",
          "name": "stdout",
          "text": [
            "\n",
            "Training time: 0.917 s\n",
            "\n"
          ]
        }
      ],
      "metadata": {
        "id": "-z4q1lertY9K",
        "outputId": "f0fdcd26-6e79-43ce-d7a6-9e315dcf2807"
      }
    },
    {
      "cell_type": "code",
      "execution_count": null,
      "source": [
        "# Predit using the trained model\n",
        "t1 = time()\n",
        "predicted = model5.predict(test_x)\n",
        "print(\"Predicting time:\", round(time()-t1, 3), \"s\\n\")\n",
        "predicting_time.append(round(time()-t1, 3))"
      ],
      "outputs": [
        {
          "output_type": "stream",
          "name": "stdout",
          "text": [
            "Predicting time: 18.849 s\n",
            "\n"
          ]
        }
      ],
      "metadata": {
        "id": "dcoY5UDltY9K",
        "outputId": "e7dd0d19-4e41-4deb-ae6c-5a2d7abc037a"
      }
    },
    {
      "cell_type": "code",
      "execution_count": null,
      "source": [
        "## Evaluate model - Accuracy, Precision, Recall\n",
        "from sklearn.metrics import precision_recall_fscore_support\n",
        "\n",
        "print('\\nAccuracy Score',accuracy_score(y_test,predicted))\n",
        "\n",
        "accuracy_scores.append(accuracy_score(y_test,predicted).round(2))\n",
        "\n",
        "print(\"Classification Report:\\n\",classification_report(y_test, predicted))\n",
        "clf_rep = precision_recall_fscore_support(y_test,predicted)\n",
        "precision_scores.append(clf_rep[0][0].round(2))\n",
        "recall_scores.append(clf_rep[1][0].round(2))\n",
        "f1_scores.append(clf_rep[2][0].round(2))\n",
        "\n",
        "## Plot confusion matrix\n",
        "print(\"confusion matrix:\\n\",confusion_matrix(y_test, predicted))\n"
      ],
      "outputs": [
        {
          "output_type": "stream",
          "name": "stdout",
          "text": [
            "\n",
            "Accuracy Score 0.40714285714285714\n",
            "Classification Report:\n",
            "               precision    recall  f1-score   support\n",
            "\n",
            "           0       0.25      0.82      0.38        77\n",
            "           1       0.33      0.39      0.36        76\n",
            "           2       0.10      0.05      0.07        60\n",
            "           3       0.57      0.43      0.49        96\n",
            "           4       0.82      0.57      0.67        70\n",
            "           5       0.67      0.22      0.33        92\n",
            "           6       0.89      0.35      0.50        89\n",
            "\n",
            "    accuracy                           0.41       560\n",
            "   macro avg       0.52      0.40      0.40       560\n",
            "weighted avg       0.54      0.41      0.41       560\n",
            "\n",
            "confusion matrix:\n",
            " [[63  6  1  3  2  2  0]\n",
            " [27 30  5 11  0  2  1]\n",
            " [29 12  3  8  2  4  2]\n",
            " [37  9  6 41  2  0  1]\n",
            " [24  2  2  2 40  0  0]\n",
            " [43 11 11  6  1 20  0]\n",
            " [30 21  2  1  2  2 31]]\n"
          ]
        }
      ],
      "metadata": {
        "id": "lD3HnSsptY9K",
        "outputId": "19df9cff-b954-4564-eec2-5d1531816382"
      }
    },
    {
      "cell_type": "code",
      "execution_count": null,
      "source": [
        "model6 = LogisticRegression(max_iter=2000)"
      ],
      "outputs": [],
      "metadata": {
        "id": "aSfPT2SUtY9K"
      }
    },
    {
      "cell_type": "code",
      "execution_count": null,
      "source": [
        "#train model and predict model training time\n",
        "t0 = time()\n",
        "model6.fit(x, y_train)\n",
        "print(\"\\nTraining time:\", round(time()-t0, 3), \"s\\n\")\n",
        "training_time.append(round(time()-t0, 3))"
      ],
      "outputs": [
        {
          "output_type": "stream",
          "name": "stdout",
          "text": [
            "\n",
            "Training time: 20.459 s\n",
            "\n"
          ]
        }
      ],
      "metadata": {
        "id": "LXl7hw-KtY9K",
        "outputId": "8cdc7633-85a9-4b95-826c-8885eef540f0"
      }
    },
    {
      "cell_type": "code",
      "execution_count": null,
      "source": [
        "# Predit using the trained model\n",
        "t1 = time()\n",
        "predicted = model6.predict(test_x)\n",
        "print(\"Predicting time:\", round(time()-t1, 3), \"s\\n\")\n",
        "predicting_time.append(round(time()-t1, 3))"
      ],
      "outputs": [
        {
          "output_type": "stream",
          "name": "stdout",
          "text": [
            "Predicting time: 0.04 s\n",
            "\n"
          ]
        }
      ],
      "metadata": {
        "id": "OJ9EU-LatY9K",
        "outputId": "245772fd-c239-432b-973f-98b0ef5e29c4"
      }
    },
    {
      "cell_type": "code",
      "execution_count": null,
      "source": [
        "## Evaluate model - Accuracy, Precision, Recall\n",
        "from sklearn.metrics import precision_recall_fscore_support\n",
        "\n",
        "print('\\nAccuracy Score',accuracy_score(y_test,predicted))\n",
        "\n",
        "accuracy_scores.append(accuracy_score(y_test,predicted).round(2))\n",
        "\n",
        "print(\"Classification Report:\\n\",classification_report(y_test, predicted))\n",
        "clf_rep = precision_recall_fscore_support(y_test,predicted)\n",
        "precision_scores.append(clf_rep[0][0].round(2))\n",
        "recall_scores.append(clf_rep[1][0].round(2))\n",
        "f1_scores.append(clf_rep[2][0].round(2))\n",
        "\n",
        "## Plot confusion matrix\n",
        "print(\"confusion matrix:\\n\",confusion_matrix(y_test, predicted))\n"
      ],
      "outputs": [
        {
          "output_type": "stream",
          "name": "stdout",
          "text": [
            "\n",
            "Accuracy Score 0.7964285714285714\n",
            "Classification Report:\n",
            "               precision    recall  f1-score   support\n",
            "\n",
            "           0       0.77      0.77      0.77        77\n",
            "           1       0.78      0.78      0.78        76\n",
            "           2       0.52      0.50      0.51        60\n",
            "           3       0.85      0.84      0.85        96\n",
            "           4       0.91      1.00      0.95        70\n",
            "           5       0.85      0.76      0.80        92\n",
            "           6       0.81      0.87      0.84        89\n",
            "\n",
            "    accuracy                           0.80       560\n",
            "   macro avg       0.78      0.79      0.78       560\n",
            "weighted avg       0.79      0.80      0.79       560\n",
            "\n",
            "confusion matrix:\n",
            " [[59  4  5  3  0  5  1]\n",
            " [ 4 59  2  1  0  1  9]\n",
            " [ 5  5 30  7  3  6  4]\n",
            " [ 4  0  9 81  1  0  1]\n",
            " [ 0  0  0  0 70  0  0]\n",
            " [ 4  2  7  3  3 70  3]\n",
            " [ 1  6  5  0  0  0 77]]\n"
          ]
        }
      ],
      "metadata": {
        "id": "WZmQdAzitY9L",
        "outputId": "885c02a2-38ed-4a4d-ec66-2f94e1d4f7de"
      }
    },
    {
      "cell_type": "code",
      "execution_count": null,
      "source": [
        "model7 = SVC(kernel='linear',gamma='auto')"
      ],
      "outputs": [],
      "metadata": {
        "id": "WyJYD1NgtY9L"
      }
    },
    {
      "cell_type": "code",
      "execution_count": null,
      "source": [
        "#train model and predict model training time\n",
        "t0 = time()\n",
        "model7.fit(x, y_train)\n",
        "print(\"\\nTraining time:\", round(time()-t0, 3), \"s\\n\")\n",
        "training_time.append(round(time()-t0, 3))"
      ],
      "outputs": [
        {
          "output_type": "stream",
          "name": "stdout",
          "text": [
            "\n",
            "Training time: 67.087 s\n",
            "\n"
          ]
        }
      ],
      "metadata": {
        "id": "LVCzYHjytY9L",
        "outputId": "0721c352-fb99-41cb-f57d-839eae2e69ba"
      }
    },
    {
      "cell_type": "code",
      "execution_count": null,
      "source": [
        "# Predict using the trained model\n",
        "t1 = time()\n",
        "predicted = model7.predict(test_x)\n",
        "print(\"Predicting time:\", round(time()-t1, 3), \"s\\n\")\n",
        "predicting_time.append(round(time()-t1, 3))"
      ],
      "outputs": [
        {
          "output_type": "stream",
          "name": "stdout",
          "text": [
            "Predicting time: 11.414 s\n",
            "\n"
          ]
        }
      ],
      "metadata": {
        "id": "EyANRgo7tY9L",
        "outputId": "842d4a41-a25e-424c-87af-cd06debdc702"
      }
    },
    {
      "cell_type": "code",
      "execution_count": null,
      "source": [
        "## Evaluate model - Accuracy, Precision, Recall\n",
        "from sklearn.metrics import precision_recall_fscore_support\n",
        "\n",
        "print('\\nAccuracy Score',accuracy_score(y_test,predicted))\n",
        "\n",
        "accuracy_scores.append(accuracy_score(y_test,predicted).round(2))\n",
        "\n",
        "print(\"Classification Report:\\n\",classification_report(y_test, predicted))\n",
        "clf_rep = precision_recall_fscore_support(y_test,predicted)\n",
        "precision_scores.append(clf_rep[0][0].round(2))\n",
        "recall_scores.append(clf_rep[1][0].round(2))\n",
        "f1_scores.append(clf_rep[2][0].round(2))\n",
        "\n",
        "## Plot confusion matrix\n",
        "print(\"confusion matrix:\\n\",confusion_matrix(y_test, predicted))\n"
      ],
      "outputs": [
        {
          "output_type": "stream",
          "name": "stdout",
          "text": [
            "\n",
            "Accuracy Score 0.7714285714285715\n",
            "Classification Report:\n",
            "               precision    recall  f1-score   support\n",
            "\n",
            "           0       0.72      0.69      0.70        77\n",
            "           1       0.70      0.72      0.71        76\n",
            "           2       0.49      0.60      0.54        60\n",
            "           3       0.90      0.84      0.87        96\n",
            "           4       0.93      1.00      0.97        70\n",
            "           5       0.82      0.68      0.75        92\n",
            "           6       0.81      0.83      0.82        89\n",
            "\n",
            "    accuracy                           0.77       560\n",
            "   macro avg       0.77      0.77      0.76       560\n",
            "weighted avg       0.78      0.77      0.77       560\n",
            "\n",
            "confusion matrix:\n",
            " [[53  8  8  2  0  5  1]\n",
            " [ 6 55  3  2  0  2  8]\n",
            " [ 5  6 36  2  3  5  3]\n",
            " [ 3  0  9 81  0  2  1]\n",
            " [ 0  0  0  0 70  0  0]\n",
            " [ 6  5 11  2  1 63  4]\n",
            " [ 1  5  7  1  1  0 74]]\n"
          ]
        }
      ],
      "metadata": {
        "id": "M_b883VmtY9L",
        "outputId": "86d275a9-4b82-4e3c-f80f-2b9cbaa72c5a"
      }
    },
    {
      "cell_type": "code",
      "execution_count": null,
      "source": [
        "from keras.wrappers.scikit_learn import KerasClassifier\n",
        "\n",
        "# create model\n",
        "def create_model():\n",
        "    model8 = Sequential()\n",
        "    model8.add(Dense(10, input_dim=10000, kernel_initializer='uniform', activation='relu'))\n",
        "    model8.add(Dense(1, kernel_initializer='uniform', activation='sigmoid'))\n",
        "    \n",
        "    adam=Adam(lr=0.01)\n",
        "    model8.compile(loss='binary_crossentropy', optimizer=adam, metrics=['accuracy'])\n",
        "    return model8\n",
        "\n",
        "# Create the model\n",
        "\n",
        "model8 = KerasClassifier(build_fn=create_model,verbose = 0, batch_size = 10, epochs = 50 )"
      ],
      "outputs": [],
      "metadata": {
        "id": "BJmB4-7OtY9L"
      }
    },
    {
      "cell_type": "code",
      "execution_count": null,
      "source": [
        "t0 = time()\n",
        "nn = model8.fit(x, y_train)\n",
        "print(\"\\nTraining time:\", round(time()-t0, 3), \"s\\n\")\n",
        "training_time.append(round(time()-t0, 3))"
      ],
      "outputs": [
        {
          "output_type": "stream",
          "name": "stdout",
          "text": [
            "\n",
            "Training time: 8.571 s\n",
            "\n"
          ]
        }
      ],
      "metadata": {
        "id": "wnIYGjFmtY9M",
        "outputId": "16719f3a-f218-422c-c0c3-bdc83447e31c"
      }
    },
    {
      "cell_type": "code",
      "execution_count": null,
      "source": [
        "t1 = time()\n",
        "pred = model8.predict(test_x).round(1) \n",
        "predicting_time.append(round(time()-t1, 3))\n",
        "\n",
        "print(pred[0:5]) \n"
      ],
      "outputs": [
        {
          "output_type": "stream",
          "name": "stdout",
          "text": [
            "[[1]\n",
            " [1]\n",
            " [1]\n",
            " [1]\n",
            " [1]]\n"
          ]
        }
      ],
      "metadata": {
        "id": "rbBz6YzUtY9M",
        "outputId": "bc1c3e8f-bf4b-4a30-cd98-55010eb1767e"
      }
    },
    {
      "cell_type": "code",
      "execution_count": null,
      "source": [
        "## Evaluate model - Accuracy, Precision, Recall\n",
        "from sklearn.metrics import precision_recall_fscore_support\n",
        "\n",
        "print('\\nAccuracy Score',accuracy_score(y_test,pred))\n",
        "\n",
        "accuracy_scores.append(accuracy_score(y_test,pred).round(2))\n",
        "\n",
        "print(\"Classification Report:\\n\",classification_report(y_test, pred))\n",
        "clf_rep = precision_recall_fscore_support(y_test,pred)\n",
        "precision_scores.append(clf_rep[0][0].round(2))\n",
        "recall_scores.append(clf_rep[1][0].round(2))\n",
        "f1_scores.append(clf_rep[2][0].round(2))\n",
        "\n",
        "## Plot confusion matrix\n",
        "print(\"confusion matrix:\\n\",confusion_matrix(y_test, pred))\n"
      ],
      "outputs": [
        {
          "output_type": "stream",
          "name": "stdout",
          "text": [
            "\n",
            "Accuracy Score 0.1357142857142857\n",
            "Classification Report:\n",
            "               precision    recall  f1-score   support\n",
            "\n",
            "           0       0.00      0.00      0.00        77\n",
            "           1       0.14      1.00      0.24        76\n",
            "           2       0.00      0.00      0.00        60\n",
            "           3       0.00      0.00      0.00        96\n",
            "           4       0.00      0.00      0.00        70\n",
            "           5       0.00      0.00      0.00        92\n",
            "           6       0.00      0.00      0.00        89\n",
            "\n",
            "    accuracy                           0.14       560\n",
            "   macro avg       0.02      0.14      0.03       560\n",
            "weighted avg       0.02      0.14      0.03       560\n",
            "\n",
            "confusion matrix:\n",
            " [[ 0 77  0  0  0  0  0]\n",
            " [ 0 76  0  0  0  0  0]\n",
            " [ 0 60  0  0  0  0  0]\n",
            " [ 0 96  0  0  0  0  0]\n",
            " [ 0 70  0  0  0  0  0]\n",
            " [ 0 92  0  0  0  0  0]\n",
            " [ 0 89  0  0  0  0  0]]\n"
          ]
        }
      ],
      "metadata": {
        "id": "BDdtiXnOtY9M",
        "outputId": "e29f52ab-f71b-4247-8723-66e413d7d88e"
      }
    },
    {
      "cell_type": "code",
      "execution_count": null,
      "source": [
        "model4 = RandomForestClassifier(max_depth=2, random_state=0)"
      ],
      "outputs": [],
      "metadata": {
        "id": "2-5PoEAOtY9M"
      }
    },
    {
      "cell_type": "code",
      "execution_count": null,
      "source": [
        "#train model and predict model training time\n",
        "t0 = time()\n",
        "model4.fit(x, y_train)\n",
        "print(\"\\nTraining time:\", round(time()-t0, 3), \"s\\n\")\n",
        "training_time.append(round(time()-t0, 3))"
      ],
      "outputs": [
        {
          "output_type": "stream",
          "name": "stdout",
          "text": [
            "\n",
            "Training time: 0.63 s\n",
            "\n"
          ]
        }
      ],
      "metadata": {
        "id": "DXezL4I5tY9M",
        "outputId": "3e32875e-1291-4080-be44-730ebc44524d"
      }
    },
    {
      "cell_type": "code",
      "execution_count": null,
      "source": [
        "# Predit using the trained model\n",
        "t1 = time()\n",
        "predicted = model4.predict(test_x)\n",
        "print(\"Predicting time:\", round(time()-t1, 3), \"s\\n\")\n",
        "predicting_time.append(round(time()-t1, 3))"
      ],
      "outputs": [
        {
          "output_type": "stream",
          "name": "stdout",
          "text": [
            "Predicting time: 0.037 s\n",
            "\n"
          ]
        }
      ],
      "metadata": {
        "id": "92YfLRg5tY9M",
        "outputId": "bccef7a4-8814-46ca-80ba-a32a3cb8716a"
      }
    },
    {
      "cell_type": "code",
      "execution_count": null,
      "source": [
        "## Evaluate model - Accuracy, Precision, Recall\n",
        "from sklearn.metrics import precision_recall_fscore_support\n",
        "\n",
        "print('\\nAccuracy Score',accuracy_score(y_test,predicted))\n",
        "\n",
        "accuracy_scores.append(accuracy_score(y_test,predicted).round(2))\n",
        "\n",
        "print(\"Classification Report:\\n\",classification_report(y_test, predicted))\n",
        "clf_rep = precision_recall_fscore_support(y_test,predicted)\n",
        "precision_scores.append(clf_rep[0][0].round(2))\n",
        "recall_scores.append(clf_rep[1][0].round(2))\n",
        "f1_scores.append(clf_rep[2][0].round(2))\n",
        "\n",
        "## Plot confusion matrix\n",
        "print(\"confusion matrix:\\n\",confusion_matrix(y_test, predicted))\n"
      ],
      "outputs": [
        {
          "output_type": "stream",
          "name": "stdout",
          "text": [
            "\n",
            "Accuracy Score 0.44107142857142856\n",
            "Classification Report:\n",
            "               precision    recall  f1-score   support\n",
            "\n",
            "           0       0.51      0.51      0.51        77\n",
            "           1       0.60      0.53      0.56        76\n",
            "           2       0.16      0.57      0.25        60\n",
            "           3       0.69      0.23      0.34        96\n",
            "           4       0.53      0.77      0.63        70\n",
            "           5       0.92      0.26      0.41        92\n",
            "           6       0.69      0.38      0.49        89\n",
            "\n",
            "    accuracy                           0.44       560\n",
            "   macro avg       0.59      0.46      0.46       560\n",
            "weighted avg       0.62      0.44      0.46       560\n",
            "\n",
            "confusion matrix:\n",
            " [[39  2 32  0  3  0  1]\n",
            " [ 6 40 17  3  5  0  5]\n",
            " [ 8  3 34  1 13  1  0]\n",
            " [11  4 49 22  8  1  1]\n",
            " [ 0  0 11  0 54  0  5]\n",
            " [ 8  7 32  5 13 24  3]\n",
            " [ 4 11 33  1  6  0 34]]\n"
          ]
        }
      ],
      "metadata": {
        "id": "hYXZDdWvtY9M",
        "outputId": "9e231f82-9880-4e69-d200-74df18d9686e"
      }
    },
    {
      "cell_type": "code",
      "execution_count": null,
      "source": [
        "model_name = ['Multinomial Bayes','Gaussian Bayes','Decision Tree','RandomForest','KNN','Logistic Regression','SVM','Neural Network']"
      ],
      "outputs": [],
      "metadata": {
        "id": "Bm5_N0nHtY9N"
      }
    },
    {
      "cell_type": "code",
      "execution_count": null,
      "source": [
        "performance_table = pd.DataFrame({'Model_name' : model_name,\n",
        "                            'Training time' : training_time,\n",
        "                            'Prediction time' : predicting_time,\n",
        "                            'Accuracy' : accuracy_scores,\n",
        "                            'Precision' : precision_scores,\n",
        "                            'Recall' : recall_scores,\n",
        "                            'F1-scores' : f1_scores}).sort_values('F1-scores',ascending=False)"
      ],
      "outputs": [],
      "metadata": {
        "id": "XwmSqG2CtY9N"
      }
    },
    {
      "cell_type": "code",
      "execution_count": null,
      "source": [
        "performance_table"
      ],
      "outputs": [
        {
          "output_type": "execute_result",
          "data": {
            "text/html": [
              "<div>\n",
              "<style scoped>\n",
              "    .dataframe tbody tr th:only-of-type {\n",
              "        vertical-align: middle;\n",
              "    }\n",
              "\n",
              "    .dataframe tbody tr th {\n",
              "        vertical-align: top;\n",
              "    }\n",
              "\n",
              "    .dataframe thead th {\n",
              "        text-align: right;\n",
              "    }\n",
              "</style>\n",
              "<table border=\"1\" class=\"dataframe\">\n",
              "  <thead>\n",
              "    <tr style=\"text-align: right;\">\n",
              "      <th></th>\n",
              "      <th>Model_name</th>\n",
              "      <th>Training time</th>\n",
              "      <th>Prediction time</th>\n",
              "      <th>Accuracy</th>\n",
              "      <th>Precision</th>\n",
              "      <th>Recall</th>\n",
              "      <th>F1-scores</th>\n",
              "    </tr>\n",
              "  </thead>\n",
              "  <tbody>\n",
              "    <tr>\n",
              "      <th>0</th>\n",
              "      <td>Multinomial Bayes</td>\n",
              "      <td>1.374</td>\n",
              "      <td>0.062</td>\n",
              "      <td>0.83</td>\n",
              "      <td>0.90</td>\n",
              "      <td>0.69</td>\n",
              "      <td>0.78</td>\n",
              "    </tr>\n",
              "    <tr>\n",
              "      <th>4</th>\n",
              "      <td>KNN</td>\n",
              "      <td>20.459</td>\n",
              "      <td>0.040</td>\n",
              "      <td>0.80</td>\n",
              "      <td>0.77</td>\n",
              "      <td>0.77</td>\n",
              "      <td>0.77</td>\n",
              "    </tr>\n",
              "    <tr>\n",
              "      <th>5</th>\n",
              "      <td>Logistic Regression</td>\n",
              "      <td>67.087</td>\n",
              "      <td>11.414</td>\n",
              "      <td>0.77</td>\n",
              "      <td>0.72</td>\n",
              "      <td>0.69</td>\n",
              "      <td>0.70</td>\n",
              "    </tr>\n",
              "    <tr>\n",
              "      <th>1</th>\n",
              "      <td>Gaussian Bayes</td>\n",
              "      <td>0.417</td>\n",
              "      <td>0.238</td>\n",
              "      <td>0.72</td>\n",
              "      <td>0.81</td>\n",
              "      <td>0.49</td>\n",
              "      <td>0.61</td>\n",
              "    </tr>\n",
              "    <tr>\n",
              "      <th>2</th>\n",
              "      <td>Decision Tree</td>\n",
              "      <td>2.873</td>\n",
              "      <td>0.015</td>\n",
              "      <td>0.64</td>\n",
              "      <td>0.50</td>\n",
              "      <td>0.58</td>\n",
              "      <td>0.54</td>\n",
              "    </tr>\n",
              "    <tr>\n",
              "      <th>7</th>\n",
              "      <td>Neural Network</td>\n",
              "      <td>0.630</td>\n",
              "      <td>0.038</td>\n",
              "      <td>0.44</td>\n",
              "      <td>0.51</td>\n",
              "      <td>0.51</td>\n",
              "      <td>0.51</td>\n",
              "    </tr>\n",
              "    <tr>\n",
              "      <th>3</th>\n",
              "      <td>RandomForest</td>\n",
              "      <td>0.917</td>\n",
              "      <td>18.849</td>\n",
              "      <td>0.41</td>\n",
              "      <td>0.25</td>\n",
              "      <td>0.82</td>\n",
              "      <td>0.38</td>\n",
              "    </tr>\n",
              "    <tr>\n",
              "      <th>6</th>\n",
              "      <td>SVM</td>\n",
              "      <td>8.572</td>\n",
              "      <td>0.109</td>\n",
              "      <td>0.14</td>\n",
              "      <td>0.00</td>\n",
              "      <td>0.00</td>\n",
              "      <td>0.00</td>\n",
              "    </tr>\n",
              "  </tbody>\n",
              "</table>\n",
              "</div>"
            ],
            "text/plain": [
              "            Model_name  Training time  Prediction time  Accuracy  Precision  \\\n",
              "0    Multinomial Bayes          1.374            0.062      0.83       0.90   \n",
              "4                  KNN         20.459            0.040      0.80       0.77   \n",
              "5  Logistic Regression         67.087           11.414      0.77       0.72   \n",
              "1       Gaussian Bayes          0.417            0.238      0.72       0.81   \n",
              "2        Decision Tree          2.873            0.015      0.64       0.50   \n",
              "7       Neural Network          0.630            0.038      0.44       0.51   \n",
              "3         RandomForest          0.917           18.849      0.41       0.25   \n",
              "6                  SVM          8.572            0.109      0.14       0.00   \n",
              "\n",
              "   Recall  F1-scores  \n",
              "0    0.69       0.78  \n",
              "4    0.77       0.77  \n",
              "5    0.69       0.70  \n",
              "1    0.49       0.61  \n",
              "2    0.58       0.54  \n",
              "7    0.51       0.51  \n",
              "3    0.82       0.38  \n",
              "6    0.00       0.00  "
            ]
          },
          "metadata": {},
          "execution_count": 85
        }
      ],
      "metadata": {
        "id": "v07vMm7xtY9N",
        "outputId": "bb61e6da-b0ac-4247-f03b-57af1bbab04c"
      }
    },
    {
      "cell_type": "markdown",
      "source": [
        "## Model Prediction"
      ],
      "metadata": {
        "id": "tKTkNZbGtY9N"
      }
    },
    {
      "cell_type": "code",
      "execution_count": null,
      "source": [
        "rec = [\"A comet the color of blood and flame cuts across the sky. Two great leaders—Lord Eddard Stark and Robert Baratheon—who hold sway over an age of enforced peace are dead, victims of royal treachery. Now, from the ancient citadel of Dragonstone to the forbidding shores of Winterfell, chaos reigns. Six factions struggle for control of a divided land and the Iron Throne of the Seven Kingdoms, preparing to stake their claims through tempest, turmoil, and war.\"]"
      ],
      "outputs": [],
      "metadata": {
        "id": "EJ_x92nRtY9N"
      }
    },
    {
      "cell_type": "code",
      "execution_count": null,
      "source": [
        "t = cv.transform(rec).toarray()"
      ],
      "outputs": [],
      "metadata": {
        "id": "n0eYbn9itY9O"
      }
    },
    {
      "cell_type": "code",
      "execution_count": null,
      "source": [
        "pr = le.inverse_transform(model1.predict(t))\n"
      ],
      "outputs": [],
      "metadata": {
        "id": "fAkP2ndxtY9O"
      }
    },
    {
      "cell_type": "code",
      "execution_count": null,
      "source": [
        "pr[0]"
      ],
      "outputs": [
        {
          "output_type": "execute_result",
          "data": {
            "text/plain": [
              "'Fantasy'"
            ]
          },
          "metadata": {},
          "execution_count": 89
        }
      ],
      "metadata": {
        "id": "p8mFeZjftY9O",
        "outputId": "e79f25ca-af36-4aa5-df15-0276cb7bb7de"
      }
    },
    {
      "cell_type": "markdown",
      "source": [
        "## Predicting Recommendation"
      ],
      "metadata": {
        "id": "rUcozZICtY9O"
      }
    },
    {
      "cell_type": "code",
      "execution_count": null,
      "source": [
        "def recommend(genre):\n",
        "    recommended_books = df[df['genre'] == genre].sort_values(by = 'average_rating',ascending = False).head()\n",
        "    print(recommended_books.title)\n",
        "        \n",
        "    return\n",
        "    "
      ],
      "outputs": [],
      "metadata": {
        "id": "4mitO5lftY9O"
      }
    },
    {
      "cell_type": "code",
      "execution_count": null,
      "source": [
        "recommend('Fantasy')"
      ],
      "outputs": [
        {
          "output_type": "stream",
          "name": "stdout",
          "text": [
            "3226                                     The High Auction\n",
            "1491    A Song of Ice and Fire (A Song of Ice and Fire...\n",
            "695                                  Adhaata Asao's Liege\n",
            "11                   Harry Potter and the Deathly Hallows\n",
            "3020      Kargaroth: A Tale of the Great Onion Knighthood\n",
            "Name: title, dtype: object\n"
          ]
        }
      ],
      "metadata": {
        "id": "mHbviVJ5tY9O",
        "outputId": "22d70ee8-9d1a-430d-c66c-d80b2b6b336e"
      }
    },
    {
      "cell_type": "markdown",
      "source": [
        "## Exporting PKL files"
      ],
      "metadata": {
        "id": "tHD9CuD1tY9P"
      }
    },
    {
      "cell_type": "code",
      "execution_count": null,
      "source": [
        "import pickle\n",
        "\n",
        "pickle.dump(model1,open('model.pkl','wb'))\n",
        "pickle.dump(df,open('books.pkl','wb'))\n",
        "pickle.dump(cv,open('CountVectorizer.pkl','wb'))"
      ],
      "outputs": [],
      "metadata": {
        "id": "ex6n_5DLtY9P"
      }
    }
  ],
  "metadata": {
    "kernelspec": {
      "name": "python3",
      "display_name": "Python 3.7.7 64-bit ('base': conda)"
    },
    "language_info": {
      "codemirror_mode": {
        "name": "ipython",
        "version": 3
      },
      "file_extension": ".py",
      "mimetype": "text/x-python",
      "name": "python",
      "nbconvert_exporter": "python",
      "pygments_lexer": "ipython3",
      "version": "3.7.7"
    },
    "interpreter": {
      "hash": "dca0ade3e726a953b501b15e8e990130d2b7799f14cfd9f4271676035ebe5511"
    },
    "colab": {
      "name": "Book_recommendation_system-scraping&predicting_books_Himanshu_Deployment Ready.ipynb",
      "provenance": [],
      "include_colab_link": true
    }
  },
  "nbformat": 4,
  "nbformat_minor": 0
}